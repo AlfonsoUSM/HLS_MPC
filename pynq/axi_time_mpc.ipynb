{
 "cells": [
  {
   "cell_type": "markdown",
   "id": "fed637bc",
   "metadata": {},
   "source": [
    "# MPC latency, with driver for 4x40 QP Problem\n",
    "Medición de latencia de comunicación\n",
    "\n",
    "MPC con ADMM. Las matrices de entrada constantes son globales y no hace falta ingresarlas. Se elige un número de iteraciones de ADMM, luego, cada iteración del controlador se ingresa x0 y se obtiene u0.\n",
    "Interfaz axilite."
   ]
  },
  {
   "cell_type": "markdown",
   "id": "ad0498dc",
   "metadata": {},
   "source": [
    "\n",
    "### Driver especializado"
   ]
  },
  {
   "cell_type": "code",
   "execution_count": 26,
   "id": "2f4fbc89",
   "metadata": {},
   "outputs": [],
   "source": [
    "from pynq import DefaultIP\n",
    "import struct\n",
    "\n",
    "class mpcDriver(DefaultIP):\n",
    "    \n",
    "    # IP Register Map\n",
    "    CTRL_REG = 0x0000\n",
    "    GIE_REG = 0x0004\n",
    "    INTE_REG = 0x0008\n",
    "    INTS_REG = 0x000C\n",
    "    \n",
    "    x0_REG = 0x0010\n",
    "    r0_REG = 0x0020\n",
    "    d0_REG = 0x0028\n",
    "    IT_REG = 0x0040\n",
    "    u0_REG = 0x0038\n",
    "    \n",
    "    N_SYS = 4\n",
    "    M_SYS = 2\n",
    "    D_SYS = 2\n",
    "    N_QP = 4\n",
    "    M_QP = 40\n",
    "    \n",
    "    def __init__(self, description):\n",
    "        super().__init__(description=description)\n",
    "        self.time_start = 0\n",
    "        self.time_stop = 0\n",
    "\n",
    "    bindto = ['xilinx.com:hls:mpc:1.0']\n",
    "\n",
    "    def write_data(self, x0, r0, d0):\n",
    "        self.write(0x0010, int.from_bytes(struct.pack(\"f\", x0[0]),'little'))\n",
    "        self.write(0x0014, int.from_bytes(struct.pack(\"f\", x0[1]),'little'))\n",
    "        self.write(0x0018, int.from_bytes(struct.pack(\"f\", x0[2]),'little'))\n",
    "        self.write(0x001c, int.from_bytes(struct.pack(\"f\", x0[3]),'little'))\n",
    "        self.write(0x0020, int.from_bytes(struct.pack(\"f\", r0[0]),'little'))\n",
    "        self.write(0x0024, int.from_bytes(struct.pack(\"f\", r0[1]),'little'))\n",
    "        self.write(0x0028, int.from_bytes(struct.pack(\"f\", d0[0]),'little'))\n",
    "        self.write(0x0030, int.from_bytes(struct.pack(\"f\", d0[1]),'little'))\n",
    "        self.write(0x0000, 0x0001) # start\n",
    "\n",
    "    def write_IT(self, data):\n",
    "        self.write(self.IT_REG, data)\n",
    "        self.write(mpcDriver.GIE_REG, 0x0001) # General Interrupt Enable\n",
    "        self.write(mpcDriver.INTE_REG, 0x0001) # DONE Interrupt Enable\n",
    "    \n",
    "    def read_u0(self):\n",
    "        u0_0 = self.read(mpcDriver.u0_REG)\n",
    "        u0_1 = self.read(mpcDriver.u0_REG+4)\n",
    "        return (struct.unpack(\"f\", u0_0.to_bytes(4,'little'))[0], struct.unpack(\"f\", u0_1.to_bytes(4,'little'))[0])\n",
    "\n",
    "    def get_extime(self):\n",
    "        return self.time_stop-self.time_start"
   ]
  },
  {
   "cell_type": "markdown",
   "id": "ee10d5c7",
   "metadata": {},
   "source": [
    "### Test"
   ]
  },
  {
   "cell_type": "code",
   "execution_count": 27,
   "id": "c2d984ad",
   "metadata": {},
   "outputs": [],
   "source": [
    "from pynq import Overlay\n",
    "import time\n",
    "overlay = Overlay('/home/xilinx/pynq/overlays/axi/axi_mpc3.bit')\n",
    "mpc_ip = overlay.mpc_0\n",
    "sniffer_ip = overlay.sniffer_0"
   ]
  },
  {
   "cell_type": "code",
   "execution_count": 6,
   "id": "f04fa17f",
   "metadata": {},
   "outputs": [
    {
     "name": "stdout",
     "output_type": "stream",
     "text": [
      "526\n",
      "516\n",
      "3212842432\n",
      "1097078245\n",
      "1079907191\n",
      "1096670310\n",
      "1083919578\n",
      "1096205374\n"
     ]
    },
    {
     "data": {
      "text/plain": [
       "(4.853131294250488, 13.422910690307617)"
      ]
     },
     "execution_count": 6,
     "metadata": {},
     "output_type": "execute_result"
    }
   ],
   "source": [
    "x0 = [2.0, 0.0, 40.0, 0.0]\n",
    "r0 = [0.0, 15.0]\n",
    "d0 = [0.0, 0.0]\n",
    "\n",
    "mpc_ip.write_IT(10)\n",
    "mpc_ip.write_data(x0, r0, d0)\n",
    "print(mpc_ip.read(0x0000))\n",
    "print(mpc_ip.read(0x0000))\n",
    "mpc_ip.read_u0()\n",
    "mpc_ip.write(0x000c, 0x0003)\n",
    "\n",
    "x0 = [-1.1628, 0.073162, 45.911, -2.8840]\n",
    "mpc_ip.write_data(x0, r0, d0)\n",
    "mpc_ip.read(0x0000)\n",
    "mpc_ip.read_u0()\n",
    "mpc_ip.write(0x000c, 0x0003)\n",
    "\n",
    "x0 = [-3.0766, 0.38776, 15.114, -1.9301]\n",
    "mpc_ip.write_data(x0, r0, d0)\n",
    "mpc_ip.read(0x0000)\n",
    "mpc_ip.read_u0()\n",
    "mpc_ip.write(0x000c, 0x0003)"
   ]
  },
  {
   "cell_type": "code",
   "execution_count": 43,
   "id": "19c1f8eb",
   "metadata": {},
   "outputs": [],
   "source": [
    "x0 = [2.0, 0.0, 40.0, 0.0]\n",
    "r0 = [0.0, 15.0]\n",
    "d0 = [0.0, 0.0]\n",
    "mpc_ip.write_IT(10)\n",
    "for i in range(0,100):\n",
    "    mpc_ip.write(0x0010,1)\n",
    "    mpc_ip.write(0x0014,2)\n",
    "    mpc_ip.write(0x0018,3)\n",
    "    mpc_ip.write(0x001c,4)\n",
    "    mpc_ip.write(0x0020,5)\n",
    "    mpc_ip.write(0x0024,6)\n",
    "    mpc_ip.write(0x0028,7)\n",
    "    mpc_ip.write(0x0030,8)\n",
    "    mpc_ip.write(0x0000,1)\n",
    "    t = 0\n",
    "    for j in range(0, 11):\n",
    "        t += j\n",
    "    mpc_ip.read(0x0038)\n",
    "    mpc_ip.read(0x003c)\n",
    "    mpc_ip.write(0x000c, 0x0003)\n",
    "    for j in range(0, 20):\n",
    "        t += j"
   ]
  },
  {
   "cell_type": "markdown",
   "id": "a9d2d665",
   "metadata": {},
   "source": [
    "## Read time intervals"
   ]
  },
  {
   "cell_type": "code",
   "execution_count": 29,
   "id": "ca7b4c6a",
   "metadata": {},
   "outputs": [],
   "source": [
    "import numpy as np\n",
    "import matplotlib.pyplot as plt"
   ]
  },
  {
   "cell_type": "markdown",
   "id": "f0a1b533",
   "metadata": {},
   "source": [
    "### Write"
   ]
  },
  {
   "cell_type": "code",
   "execution_count": 30,
   "id": "cafeb7b1",
   "metadata": {},
   "outputs": [
    {
     "data": {
      "text/plain": [
       "3322100.769"
      ]
     },
     "execution_count": 30,
     "metadata": {},
     "output_type": "execute_result"
    }
   ],
   "source": [
    "# Write\n",
    "N = 10\n",
    "val = np.zeros(N*100)\n",
    "for i in range(0,N):\n",
    "    for j in range (0,101):\n",
    "        mpc_ip.write(0x0038, j)\n",
    "    for j in range(0,100):\n",
    "        offset = j*4\n",
    "        val[100*i+j] = sniffer_ip.read(0x0000+offset)\n",
    "        #print(\"%d:\\t%d\" % (i,val[i]))\n",
    "val.mean()"
   ]
  },
  {
   "cell_type": "code",
   "execution_count": 31,
   "id": "ad36e5a1",
   "metadata": {},
   "outputs": [
    {
     "data": {
      "image/png": "[encoded data removed]",
      "text/plain": [
       "<Figure size 720x360 with 1 Axes>"
      ]
     },
     "metadata": {
      "needs_background": "light"
     },
     "output_type": "display_data"
    }
   ],
   "source": [
    "fig = plt.figure(figsize =(10, 5))\n",
    " \n",
    "# Creating plot\n",
    "ax = fig.add_axes([0, 0, 1, 1])\n",
    "ax.hist(val, 100)\n",
    "plt.grid(True)\n",
    "plt.ylabel('Frequency', fontsize=13)\n",
    "plt.xlabel('Interval [clock cycles]', fontsize=13)\n",
    "\n",
    "# show plot\n",
    "plt.show()"
   ]
  },
  {
   "cell_type": "code",
   "execution_count": 100,
   "id": "a99d7a0e",
   "metadata": {},
   "outputs": [],
   "source": [
    "fig.savefig(\"axi_interval_write.pdf\", bbox_inches='tight')"
   ]
  },
  {
   "cell_type": "markdown",
   "id": "19191cc0",
   "metadata": {},
   "source": [
    "### Read"
   ]
  },
  {
   "cell_type": "code",
   "execution_count": 101,
   "id": "957a25fd",
   "metadata": {},
   "outputs": [
    {
     "data": {
      "text/plain": [
       "881.63"
      ]
     },
     "execution_count": 101,
     "metadata": {},
     "output_type": "execute_result"
    }
   ],
   "source": [
    "# Read\n",
    "\n",
    "N = 10\n",
    "val = np.zeros(N*100)\n",
    "for i in range(0,N):\n",
    "    for j in range (0,101):\n",
    "        mpc_ip.read(0x0030)\n",
    "    for j in range(0,100):\n",
    "        offset = j*4\n",
    "        val[100*i+j] = sniffer_ip.read(0x0000+offset)\n",
    "        #print(\"%d:\\t%d\" % (i,val[i]))\n",
    "val.mean()"
   ]
  },
  {
   "cell_type": "code",
   "execution_count": 104,
   "id": "e017a7a5",
   "metadata": {},
   "outputs": [
    {
     "data": {
      "image/png": "[encoded data removed]",
      "text/plain": [
       "<Figure size 720x360 with 1 Axes>"
      ]
     },
     "metadata": {
      "needs_background": "light"
     },
     "output_type": "display_data"
    }
   ],
   "source": [
    "fig2 = plt.figure(figsize =(10, 5))\n",
    " \n",
    "# Creating plot\n",
    "ax2 = fig2.add_axes([0, 0, 1, 1])\n",
    "ax2.hist(val, 100)\n",
    "plt.grid(True)\n",
    "plt.ylabel('Frequency', fontsize=13)\n",
    "plt.xlabel('Interval [clock cycles]', fontsize=13)\n",
    "\n",
    "# show plot\n",
    "plt.show()"
   ]
  },
  {
   "cell_type": "code",
   "execution_count": 154,
   "id": "09433f4b",
   "metadata": {},
   "outputs": [],
   "source": [
    "fig2.savefig(\"axi_interval_read.pdf\", bbox_inches='tight')"
   ]
  },
  {
   "cell_type": "markdown",
   "id": "c99bec4a",
   "metadata": {},
   "source": [
    "### Write-Read"
   ]
  },
  {
   "cell_type": "code",
   "execution_count": 137,
   "id": "4c3a36df",
   "metadata": {},
   "outputs": [
    {
     "data": {
      "text/plain": [
       "968.546"
      ]
     },
     "execution_count": 137,
     "metadata": {},
     "output_type": "execute_result"
    }
   ],
   "source": [
    "# write-read\n",
    "N = 10\n",
    "val = np.zeros(N*100)\n",
    "for i in range(0,N):\n",
    "    for j in range (0,50):\n",
    "        mpc_ip.write(0x0038, j)\n",
    "        mpc_ip.read(0x0030)\n",
    "    mpc_ip.write(0x0038, j)\n",
    "    for j in range(0,100):\n",
    "        offset = j*4\n",
    "        val[100*i+j] = sniffer_ip.read(0x0000+offset)\n",
    "        #print(\"%d:\\t%d\" % (i,val[i]))\n",
    "val.mean()"
   ]
  },
  {
   "cell_type": "code",
   "execution_count": 138,
   "id": "b79b3646",
   "metadata": {},
   "outputs": [
    {
     "data": {
      "image/png": "[encoded data removed]",
      "text/plain": [
       "<Figure size 720x360 with 1 Axes>"
      ]
     },
     "metadata": {
      "needs_background": "light"
     },
     "output_type": "display_data"
    }
   ],
   "source": [
    "fig3 = plt.figure(figsize =(10, 5))\n",
    " \n",
    "# Creating plot\n",
    "ax3 = fig3.add_axes([0, 0, 1, 1])\n",
    "#ax.set_xticklabels(horizon)\n",
    "ax3.hist(val, 100)\n",
    "plt.grid(True)\n",
    "plt.ylabel('Frequency', fontsize=13)\n",
    "plt.xlabel('Interval [clock cycles]', fontsize=13)\n",
    " \n",
    "# show plot\n",
    "plt.show()\n"
   ]
  },
  {
   "cell_type": "code",
   "execution_count": 139,
   "id": "77522a1b",
   "metadata": {},
   "outputs": [],
   "source": [
    "fig3.savefig(\"axi_interval_write-read.pdf\", bbox_inches='tight')"
   ]
  },
  {
   "cell_type": "markdown",
   "id": "248a9421",
   "metadata": {},
   "source": [
    "### MPC"
   ]
  },
  {
   "cell_type": "code",
   "execution_count": 156,
   "id": "a73bfa36",
   "metadata": {},
   "outputs": [
    {
     "data": {
      "text/plain": [
       "1394.024"
      ]
     },
     "execution_count": 156,
     "metadata": {},
     "output_type": "execute_result"
    }
   ],
   "source": [
    "# MPC\n",
    "N = 10\n",
    "val = np.zeros(100*N)\n",
    "for i in range(0,N):\n",
    "    mpc_ip.write_IT(10)\n",
    "    for j in range (0,14):\n",
    "        mpc_ip.write_x0(x0)\n",
    "        mpc_ip.start()\n",
    "        mpc_ip.read(0x0030)\n",
    "        mpc_ip.read(0x0034)\n",
    "    mpc_ip.read(0x0000)\n",
    "    mpc_ip.read(0x0000)\n",
    "    for j in range(0,100):\n",
    "        offset = j*4\n",
    "        val[100*i+j] = sniffer_ip.read(0x0000+offset)\n",
    "        #print(\"%d:\\t%d\" % (i,val[i]))\n",
    "val.mean()"
   ]
  },
  {
   "cell_type": "code",
   "execution_count": 152,
   "id": "4f0cb446",
   "metadata": {},
   "outputs": [
    {
     "data": {
      "image/png": "[encoded data removed]",
      "text/plain": [
       "<Figure size 720x360 with 1 Axes>"
      ]
     },
     "metadata": {
      "needs_background": "light"
     },
     "output_type": "display_data"
    }
   ],
   "source": [
    "fig4 = plt.figure(figsize =(10, 5))\n",
    " \n",
    "# Creating plot\n",
    "ax4 = fig4.add_axes([0, 0, 1, 1])\n",
    "#ax.set_xticklabels(horizon)\n",
    "ax4.hist(val, 100)\n",
    "plt.grid(True)\n",
    "plt.ylabel('Frequency', fontsize=13)\n",
    "plt.xlabel('Interval [clock cycles]', fontsize=13)\n",
    " \n",
    "# show plot\n",
    "plt.show()\n"
   ]
  },
  {
   "cell_type": "code",
   "execution_count": 172,
   "id": "e6b76a8a",
   "metadata": {},
   "outputs": [],
   "source": [
    "fig4.savefig(\"axi_interval_mpc_messages.pdf\", bbox_inches='tight')"
   ]
  },
  {
   "cell_type": "code",
   "execution_count": null,
   "id": "0feba2e3",
   "metadata": {},
   "outputs": [],
   "source": []
  },
  {
   "cell_type": "code",
   "execution_count": 158,
   "id": "bd3dc822",
   "metadata": {},
   "outputs": [
    {
     "data": {
      "text/plain": [
       "9842.430769230768"
      ]
     },
     "execution_count": 158,
     "metadata": {},
     "output_type": "execute_result"
    }
   ],
   "source": [
    "# MPC\n",
    "index = 0\n",
    "sums = np.zeros(N*13)\n",
    "for i in range(0,N):\n",
    "    for j in range (0,13):\n",
    "        for k in range (0,7):\n",
    "            sums[i*13+j] = sums[i*13+j] + val[i*100+j*7+k+1]\n",
    "sums.mean()"
   ]
  },
  {
   "cell_type": "code",
   "execution_count": 159,
   "id": "dd87ca66",
   "metadata": {},
   "outputs": [
    {
     "data": {
      "text/plain": [
       "array([11767.,  9445.,  9292.,  9202.,  9149.,  9084.,  9184.,  9185.,\n",
       "        9157.,  9193.,  9176.,  9196.,  9249.,  9337., 28042.,  9300.,\n",
       "        9222.,  9247.,  9165.,  9179.,  9190.,  9193., 11191.,  9273.,\n",
       "        9151.,  9233.,  9327.,  9221.,  9205.,  9133.,  9227.,  9153.,\n",
       "        9164.,  9142.,  9304.,  9191.,  9195.,  9159.,  9204.,  9343.,\n",
       "       16178.,  9358.,  9180.,  9208.,  9093.,  9190.,  9098.,  9198.,\n",
       "        9130.,  9083.,  9189.,  9140.,  9383.,  9216.,  9131.,  9195.,\n",
       "        9155.,  9179.,  9120.,  9048.,  9089.,  9086.,  9129.,  9193.,\n",
       "        9103.,  9380., 10029.,  9314.,  9149.,  9159.,  9181.,  9112.,\n",
       "        9166.,  9191.,  9102.,  9079.,  9148.,  9203.,  9284.,  9204.,\n",
       "       10439.,  9245.,  9139.,  9135.,  9194.,  9089.,  9144.,  9063.,\n",
       "        9107.,  9066.,  9174.,  9230., 18484., 10441.,  9630.,  9583.,\n",
       "        9285.,  9392.,  9260.,  9250.,  9271.,  9185.,  9325.,  9268.,\n",
       "        9473.,  9359.,  9284.,  9301.,  9270.,  9300.,  9246.,  9350.,\n",
       "        9287.,  9215.,  9318.,  9262.,  9304.,  9523., 45623., 10232.,\n",
       "        9518.,  9296.,  9307.,  9274.,  9224.,  9295.,  9315.,  9255.,\n",
       "        9267.,  9276.])"
      ]
     },
     "execution_count": 159,
     "metadata": {},
     "output_type": "execute_result"
    }
   ],
   "source": [
    "sums"
   ]
  },
  {
   "cell_type": "code",
   "execution_count": 157,
   "id": "13c15a78",
   "metadata": {},
   "outputs": [
    {
     "data": {
      "text/plain": [
       "array([ 5074.,  1525.,  1396.,  1314.,  1851.,  1478.,  1608.,  2595.,\n",
       "        1401.,  1299.,  1278.,  1343.,   664.,  1010.,  2450.,  1351.,\n",
       "        1275.,  1274.,  1292.,   655.,  1014.,  2431.,  1323.,  1266.,\n",
       "        1247.,  1318.,   650.,   995.,  2403.,  1333.,  1255.,  1238.,\n",
       "        1282.,   665.,   974.,  2402.,  1329.,  1238.,  1256.,  1286.,\n",
       "         635.,   974.,  2366.,  1317.,  1278.,  1259.,  1279.,   654.,\n",
       "         998.,  2399.,  1350.,  1281.,  1247.,  1295.,   648.,   974.,\n",
       "        2390.,  1340.,  1281.,  1254.,  1263.,   650.,   986.,  2383.,\n",
       "        1322.,  1279.,  1252.,  1308.,   651.,   988.,  2393.,  1343.,\n",
       "        1269.,  1241.,  1279.,   654.,   999.,  2391.,  1332.,  1263.,\n",
       "        1261.,  1283.,   658.,   989.,  2410.,  1357.,  1276.,  1239.,\n",
       "        1291.,   665.,   999.,  2422.,  1365.,  1273.,  1278.,  1287.,\n",
       "         649.,   972.,   904.,   851.,  2490.,  1359.,  1294.,  1271.,\n",
       "        1290.,   674.,  1012.,  2437., 19618.,  1416.,  1319.,  1404.,\n",
       "         705.,  1050.,  2530.,  1362.,  1276.,  1246.,  1300.,   678.,\n",
       "         996.,  2442.,  1338.,  1268.,  1267.,  1300.,   659.,   997.,\n",
       "        2393.,  1372.,  1277.,  1268.,  1304.,   648.,   990.,  2388.,\n",
       "        1338.,  1275.,  1243.,  1271.,   657.,   976.,  2405.,  1357.,\n",
       "        1258.,  1252.,  1288.,   647.,   991.,  2386.,  1346.,  1300.,\n",
       "        1231.,  1275.,   654.,   984.,  2400.,  1342.,  1265.,  1276.,\n",
       "        1283.,   658.,   984.,  2385.,  1331.,  3017.,  1371.,  1335.,\n",
       "         663.,   999.,  2475.,  1361.,  1274.,  1253.,  1299.,   644.,\n",
       "        1000.,  2442.,  1344.,  1265.,  1257.,  1273.,   650.,   975.,\n",
       "        2387.,  1336.,  1280.,  1273.,  1303.,   648.,   983.,  2410.,\n",
       "        1370.,  1288.,  1255.,  1279.,   654.,   973.,   893.,   839.,\n",
       "        2507.,  1357.,  1302.,  1283.,  1312.,   667.,   993.,  2413.,\n",
       "        1346.,  1267.,  1256.,  1313.,   643.,   970.,  2426.,  1348.,\n",
       "        1290.,  1248.,  1288.,   653.,   998.,  2380.,  1333.,  1294.,\n",
       "        1249.,  1265.,   649.,   981.,  2362.,  1371.,  1293.,  1254.,\n",
       "        1268.,   647.,   994.,  2400.,  1331.,  1275.,  1270.,  1269.,\n",
       "         655.,   989.,  2364.,  1363.,  1276.,  1251.,  1275.,   635.,\n",
       "         966.,  2398.,  1316.,  1276.,  1251.,  1269.,   655.,   983.,\n",
       "        2392.,  1387.,  1305.,  1274.,  1286.,   661.,   987.,  2404.,\n",
       "        1334.,  1281.,  1258.,  1285.,   664.,   980.,  2389.,  1349.,\n",
       "        1285.,  1256.,  1271.,   661.,   984.,  2389.,  1328.,  1274.,\n",
       "        1259.,  1300.,   649.,   989.,  2360.,  1347.,  1279.,  1273.,\n",
       "        1297.,   647.,   981.,  2380.,  1358.,  1288.,  1245.,  1263.,\n",
       "         657.,   988.,   904.,   833.,  2506.,  1367.,  1272.,  1264.,\n",
       "        1340.,   681.,   997.,  2422.,  1321.,  1288.,  1265.,  7875.,\n",
       "         758.,  1070.,  2601.,  1401.,  1275.,  1285.,  1307.,   660.,\n",
       "         986.,  2444.,  1359.,  1259.,  1259.,  1299.,   651.,   973.,\n",
       "        2380.,  1359.,  1273.,  1260.,  1278.,   652.,   986.,  2400.,\n",
       "        1311.,  1255.,  1241.,  1266.,   648.,   975.,  2397.,  1344.,\n",
       "        1273.,  1257.,  1294.,   665.,   981.,  2376.,  1316.,  1256.,\n",
       "        1252.,  1254.,   644.,   972.,  2404.,  1362.,  1292.,  1260.,\n",
       "        1279.,   657.,   975.,  2373.,  1341.,  1249.,  1290.,  1272.,\n",
       "         646.,   975.,  2357.,  1329.,  1255.,  1253.,  1278.,   653.,\n",
       "         965.,  2350.,  1341.,  1278.,  1261.,  1294.,   657.,   975.,\n",
       "        2383.,  1333.,  1267.,  1263.,  1259.,   644.,   987.,  2387.,\n",
       "        1350.,  1258.,  1270.,  1274.,   652.,   967.,   903.,   859.,\n",
       "        2475.,  1388.,  1313.,  1268.,  1317.,   662.,  1001.,  2434.,\n",
       "        1336.,  1299.,  1261.,  1297.,   652.,   981.,  2390.,  1312.,\n",
       "        1262.,  1249.,  1277.,   666.,   983.,  2382.,  1340.,  1277.,\n",
       "        1272.,  1285.,   657.,   983.,  2381.,  1343.,  1270.,  1245.,\n",
       "        1282.,   647.,   984.,  2384.,  1309.,  1263.,  1261.,  1299.,\n",
       "         646.,   982.,  2419.,  1337.,  1259.,  1243.,  1298.,   651.,\n",
       "         970.,  2362.,  1319.,  1259.,  1243.,  1269.,   643.,   978.,\n",
       "        2337.,  1343.,  1249.,  1250.,  1277.,   645.,   966.,  2359.,\n",
       "        1311.,  1268.,  1232.,  1282.,   644.,   977.,  2372.,  1355.,\n",
       "        1269.,  1247.,  1265.,   657.,   972.,  2364.,  1357.,  1268.,\n",
       "        1260.,  1281.,   655.,   983.,  2389.,  1312.,  1284.,  1245.,\n",
       "        1266.,   646.,   975.,  2375.,  1334.,  1264.,  1246.,  1280.,\n",
       "         641.,  2070.,  1114.,   879.,  2502.,  1388.,  1305.,  1266.,\n",
       "        1322.,   671.,  1008.,  2420.,  1324.,  1278.,  1261.,  1307.,\n",
       "         656.,  1663.,  2540.,  1373.,  1291.,  1264.,  1335.,   650.,\n",
       "         987.,  2414.,  1338.,  1274.,  1240.,  1293.,   642.,   968.,\n",
       "        2394.,  1332.,  1287.,  1261.,  1263.,   648.,   981.,  2387.,\n",
       "        1347.,  1277.,  1255.,  1274.,   655.,   984.,  2389.,  1316.,\n",
       "        1283.,  1247.,  1268.,   634.,   963.,  2401.,  1372.,  1262.,\n",
       "        1243.,  1287.,   643.,   976.,  2383.,  1349.,  1267.,  1261.,\n",
       "        1288.,   660.,   968.,  2398.,  1334.,  1258.,  1273.,  1268.,\n",
       "         625.,   980.,  2364.,  1305.,  1277.,  1259.,  1242.,   657.,\n",
       "         987.,  2352.,  1365.,  1264.,  1260.,  1275.,   643.,   981.,\n",
       "        2360.,  1335.,  1279.,  1258.,  1306.,   649.,   995.,  2381.,\n",
       "        1346.,  1296.,  1247.,  1274.,   646.,   973.,   886.,   834.,\n",
       "        2454.,  1361.,  1270.,  1261.,  1311.,   661.,   994.,  2426.,\n",
       "        1343.,  1284.,  1252.,  1289.,   640.,   992.,  2404.,  1336.,\n",
       "        1284.,  2312.,  1379.,   675.,   994.,  2459.,  1360.,  1283.,\n",
       "        1252.,  1297.,   664.,   989.,  2400.,  1347.,  1276.,  1216.,\n",
       "        1255.,   652.,   986.,  2407.,  1338.,  1234.,  1261.,  1283.,\n",
       "         639.,   999.,  2381.,  1337.,  1267.,  1258.,  1289.,   671.,\n",
       "         993.,  2379.,  1348.,  1239.,  1232.,  1275.,   644.,   981.,\n",
       "        2370.,  1305.,  1271.,  1281.,  1272.,   650.,   984.,  2381.,\n",
       "        1316.,  1284.,  1241.,  1263.,   639.,   964.,  2356.,  1329.,\n",
       "        1255.,  1228.,  1275.,   643.,   990.,  2387.,  1311.,  1259.,\n",
       "        1222.,  1263.,   642.,  1000.,  2369.,  1344.,  1268.,  1247.,\n",
       "        1282.,   652.,  1000.,  2381.,  1339.,  1272.,  1245.,  1289.,\n",
       "         646.,   977.,   900.,   835.,  2443.,  1338.,  1264.,  1234.,\n",
       "        1288.,   671.,  1000.,  2435.,  1345.,  1279.,  1273.,  1287.,\n",
       "         671.,   996., 11633.,  1891.,  1447.,  1331.,  1372.,   720.,\n",
       "        1045.,  2635.,  1414.,  1347.,  1315.,  1363.,   681.,  1022.,\n",
       "        2488.,  1413.,  1304.,  1298.,  1369.,   696.,  1023.,  2480.,\n",
       "        1345.,  1283.,  1268.,  1326.,   661.,   990.,  2412.,  1376.,\n",
       "        1305.,  1266.,  1312.,   673.,   982.,  2478.,  1380.,  1288.,\n",
       "        1264.,  1287.,   658.,   962.,  2421.,  1345.,  1302.,  1274.,\n",
       "        1298.,   654.,   984.,  2393.,  1367.,  1311.,  1273.,  1301.,\n",
       "         651.,   979.,  2389.,  1367.,  1289.,  1252.,  1284.,   652.,\n",
       "         968.,  2373.,  1362.,  1286.,  1273.,  1304.,   675.,  1004.,\n",
       "        2421.,  1348.,  1301.,  1263.,  1308.,   662.,   994.,  2392.,\n",
       "        1342.,  1281.,  1282.,  1287.,   657.,   977.,   893.,   843.,\n",
       "        2712.,  1388.,  1293.,  1301.,  1346.,   678.,  1008.,  2459.,\n",
       "        1372.,  1294.,  1237.,  1351.,   657.,  1029.,  2419.,  1363.,\n",
       "        1290.,  1288.,  1285.,   685.,   984.,  2389.,  1368.,  1303.,\n",
       "        1281.,  1301.,   657.,   999.,  2392.,  1335.,  1292.,  1256.,\n",
       "        1297.,   655.,   989.,  2446.,  1390.,  1302.,  1291.,  1301.,\n",
       "         653.,   992.,  2371.,  1346.,  1289.,  1263.,  1288.,   656.,\n",
       "         996.,  2408.,  1372.,  1298.,  1273.,  1299.,   675.,   997.,\n",
       "        2436.,  1379.,  1300.,  1268.,  1307.,   655.,   996.,  2382.,\n",
       "        1350.,  1287.,  1272.,  1255.,   652.,   992.,  2407.,  1368.,\n",
       "        1294.,  1297.,  1290.,   662.,   988.,  2419.,  1363.,  1321.,\n",
       "        1255.,  1304.,   672.,   991.,  2356.,  1369.,  1280.,  1279.,\n",
       "        1311.,   677.,   989.,  2399.,  1352.,  1288.,  1271.,  1298.,\n",
       "         652.,  1002.,   903.,   844.,  2516.,  1424.,  1308.,  1287.,\n",
       "        1324.,   690.,  1025.,  2465.,  1345.,  1285.,  1272.,  1314.,\n",
       "         673., 36061.,  3673.,  1565.,  1420.,  1314.,  1504.,   749.,\n",
       "        1041.,  2639.,  1372.,  1315.,  1313.,  1349.,   667.,  1019.,\n",
       "        2483.,  1370.,  1290.,  1257.,  1324.,   667.,   983.,  2405.,\n",
       "        1357.,  1306.,  1278.,  1310.,   653.,   989.,  2414.,  1321.,\n",
       "        1269.,  1256.,  1307.,   651.,   995.,  2475.,  1330.,  1273.,\n",
       "        1254.,  1306.,   635.,   992.,  2434.,  1380.,  1269.,  1258.,\n",
       "        1340.,   656.,   990.,  2402.,  1348.,  1293.,  1296.,  1309.,\n",
       "         651.,   984.,  2434.,  1334.,  1277.,  1262.,  1305.,   659.,\n",
       "         993.,  2425.,  1335.,  1288.,  1271.,  1294.,   664.,   989.,\n",
       "        2426.,  1360.,  1296.,  1249.,  1294.,   660.,  1000.,  2417.,\n",
       "        1349.,  1280.,  1268.,  1317.,   648.,   990.,   921.,   852.])"
      ]
     },
     "execution_count": 157,
     "metadata": {},
     "output_type": "execute_result"
    }
   ],
   "source": [
    "val"
   ]
  },
  {
   "cell_type": "code",
   "execution_count": 167,
   "id": "81284e75",
   "metadata": {},
   "outputs": [
    {
     "data": {
      "image/png": "[encoded data removed]",
      "text/plain": [
       "<Figure size 720x360 with 1 Axes>"
      ]
     },
     "metadata": {
      "needs_background": "light"
     },
     "output_type": "display_data"
    }
   ],
   "source": [
    "fig5 = plt.figure(figsize =(10, 5))\n",
    " \n",
    "# Creating plot\n",
    "ax5 = fig5.add_axes([0, 0, 1, 1])\n",
    "#ax.set_xticklabels(horizon)\n",
    "ax5.hist(sums, 100)\n",
    "plt.grid(True)\n",
    "plt.ylabel('Frequency', fontsize=13)\n",
    "plt.xlabel('Interval [clock cycles]', fontsize=13)\n",
    " \n",
    "# show plot\n",
    "plt.show()\n"
   ]
  },
  {
   "cell_type": "code",
   "execution_count": 171,
   "id": "f1bc0bae",
   "metadata": {},
   "outputs": [],
   "source": [
    "fig5.savefig(\"axi_interval_mpc_control.pdf\", bbox_inches='tight')"
   ]
  },
  {
   "cell_type": "code",
   "execution_count": 155,
   "id": "6cfe1dc9",
   "metadata": {},
   "outputs": [
    {
     "name": "stdout",
     "output_type": "stream",
     "text": [
      "0:\t2440\n",
      "1:\t1361\n",
      "2:\t1295\n",
      "3:\t1278\n",
      "4:\t1311\n",
      "5:\t651\n",
      "6:\t986\n",
      "7:\t2395\n",
      "8:\t1361\n",
      "9:\t1268\n",
      "10:\t1276\n",
      "11:\t1310\n",
      "12:\t628\n",
      "13:\t956\n",
      "14:\t2415\n",
      "15:\t1373\n",
      "16:\t1306\n",
      "17:\t1236\n",
      "18:\t1300\n",
      "19:\t657\n",
      "20:\t979\n",
      "21:\t2373\n",
      "22:\t1306\n",
      "23:\t1307\n",
      "24:\t1279\n",
      "25:\t1313\n",
      "26:\t653\n",
      "27:\t981\n",
      "28:\t2384\n",
      "29:\t1316\n",
      "30:\t1295\n",
      "31:\t1270\n",
      "32:\t1287\n",
      "33:\t654\n",
      "34:\t965\n",
      "35:\t2367\n",
      "36:\t1335\n",
      "37:\t1303\n",
      "38:\t1269\n",
      "39:\t1315\n",
      "40:\t651\n",
      "41:\t966\n",
      "42:\t2377\n",
      "43:\t1340\n",
      "44:\t1281\n",
      "45:\t8992\n",
      "46:\t1794\n",
      "47:\t738\n",
      "48:\t1017\n",
      "49:\t2573\n",
      "50:\t1395\n",
      "51:\t1280\n",
      "52:\t1262\n",
      "53:\t1326\n",
      "54:\t663\n",
      "55:\t978\n",
      "56:\t2431\n",
      "57:\t1386\n",
      "58:\t1304\n",
      "59:\t1263\n",
      "60:\t1306\n",
      "61:\t653\n",
      "62:\t977\n",
      "63:\t2409\n",
      "64:\t1366\n",
      "65:\t1301\n",
      "66:\t1269\n",
      "67:\t1261\n",
      "68:\t651\n",
      "69:\t966\n",
      "70:\t2377\n",
      "71:\t1346\n",
      "72:\t1294\n",
      "73:\t1266\n",
      "74:\t1293\n",
      "75:\t634\n",
      "76:\t959\n",
      "77:\t2397\n",
      "78:\t1336\n",
      "79:\t1280\n",
      "80:\t1267\n",
      "81:\t1309\n",
      "82:\t652\n",
      "83:\t971\n",
      "84:\t2386\n",
      "85:\t1356\n",
      "86:\t1305\n",
      "87:\t1258\n",
      "88:\t1297\n",
      "89:\t661\n",
      "90:\t952\n",
      "91:\t2372\n",
      "92:\t1361\n",
      "93:\t1279\n",
      "94:\t1286\n",
      "95:\t1277\n",
      "96:\t655\n",
      "97:\t959\n",
      "98:\t1860\n",
      "99:\t920\n"
     ]
    }
   ],
   "source": [
    "for i in range(0,100):\n",
    "    offset = i*4\n",
    "    print(\"%d:\\t%d\" % (i, sniffer_ip.read(0x0000+offset)))"
   ]
  },
  {
   "cell_type": "code",
   "execution_count": null,
   "id": "53a5b30a",
   "metadata": {},
   "outputs": [],
   "source": []
  }
 ],
 "metadata": {
  "kernelspec": {
   "display_name": "Python 3",
   "language": "python",
   "name": "python3"
  },
  "language_info": {
   "codemirror_mode": {
    "name": "ipython",
    "version": 3
   },
   "file_extension": ".py",
   "mimetype": "text/x-python",
   "name": "python",
   "nbconvert_exporter": "python",
   "pygments_lexer": "ipython3",
   "version": "3.8.2"
  }
 },
 "nbformat": 4,
 "nbformat_minor": 5
}
