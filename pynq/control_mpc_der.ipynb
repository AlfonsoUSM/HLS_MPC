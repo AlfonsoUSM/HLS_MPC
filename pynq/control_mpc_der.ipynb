{
 "cells": [
  {
   "cell_type": "markdown",
   "id": "fed637bc",
   "metadata": {},
   "source": [
    "# MPC IP Driver for 4x40 QP Problem\n",
    "MPC con ADMM. Las matrices de entrada constantes son globales y no hace falta ingresarlas. Se elige un número de iteraciones de ADMM, luego, cada iteración del controlador se ingresa x0, r0, d0 y se obtiene u0.\n",
    "Interfaz axilite."
   ]
  },
  {
   "cell_type": "markdown",
   "id": "ad0498dc",
   "metadata": {},
   "source": [
    "\n",
    "### Driver especializado"
   ]
  },
  {
   "cell_type": "code",
   "execution_count": 16,
   "id": "2f4fbc89",
   "metadata": {},
   "outputs": [
    {
     "data": {
      "application/javascript": [
       "\n",
       "try {\n",
       "require(['notebook/js/codecell'], function(codecell) {\n",
       "  codecell.CodeCell.options_default.highlight_modes[\n",
       "      'magic_text/x-csrc'] = {'reg':[/^%%microblaze/]};\n",
       "  Jupyter.notebook.events.one('kernel_ready.Kernel', function(){\n",
       "      Jupyter.notebook.get_cells().map(function(cell){\n",
       "          if (cell.cell_type == 'code'){ cell.auto_highlight(); } }) ;\n",
       "  });\n",
       "});\n",
       "} catch (e) {};\n"
      ]
     },
     "metadata": {},
     "output_type": "display_data"
    },
    {
     "data": {
      "application/javascript": [
       "\n",
       "try {\n",
       "require(['notebook/js/codecell'], function(codecell) {\n",
       "  codecell.CodeCell.options_default.highlight_modes[\n",
       "      'magic_text/x-csrc'] = {'reg':[/^%%pybind11/]};\n",
       "  Jupyter.notebook.events.one('kernel_ready.Kernel', function(){\n",
       "      Jupyter.notebook.get_cells().map(function(cell){\n",
       "          if (cell.cell_type == 'code'){ cell.auto_highlight(); } }) ;\n",
       "  });\n",
       "});\n",
       "} catch (e) {};\n"
      ]
     },
     "metadata": {},
     "output_type": "display_data"
    }
   ],
   "source": [
    "from pynq import DefaultIP\n",
    "import struct\n",
    "\n",
    "class mpcDriver(DefaultIP):\n",
    "    \n",
    "    # IP Register Map\n",
    "    CTRL_REG = 0x0000\n",
    "    GIE_REG = 0x0004\n",
    "    INTE_REG = 0x0008\n",
    "    INTS_REG = 0x000C\n",
    "    \n",
    "    x0_REG = 0x0010\n",
    "    r0_REG = 0x0020\n",
    "    d0_REG = 0x0028\n",
    "    IT_REG = 0x0040\n",
    "    u0_REG = 0x0038\n",
    "    \n",
    "    N_SYS = 4\n",
    "    M_SYS = 2\n",
    "    D_SYS = 2\n",
    "    N_QP = 4\n",
    "    M_QP = 40\n",
    "    \n",
    "    def __init__(self, description):\n",
    "        super().__init__(description=description)\n",
    "        self.time_start = 0\n",
    "        self.time_stop = 0\n",
    "\n",
    "    bindto = ['xilinx.com:hls:mpc:1.0']\n",
    "\n",
    "    def write_data(self, x0, r0, d0):\n",
    "        self.write(0x0010, int.from_bytes(struct.pack(\"f\", x0[0]),'little'))\n",
    "        self.write(0x0014, int.from_bytes(struct.pack(\"f\", x0[1]),'little'))\n",
    "        self.write(0x0018, int.from_bytes(struct.pack(\"f\", x0[2]),'little'))\n",
    "        self.write(0x001c, int.from_bytes(struct.pack(\"f\", x0[3]),'little'))\n",
    "        self.write(0x0020, int.from_bytes(struct.pack(\"f\", r0[0]),'little'))\n",
    "        self.write(0x0024, int.from_bytes(struct.pack(\"f\", r0[1]),'little'))\n",
    "        self.write(0x0028, int.from_bytes(struct.pack(\"f\", d0[0]),'little'))\n",
    "        self.write(0x0030, int.from_bytes(struct.pack(\"f\", d0[1]),'little'))\n",
    "        self.write(0x0000, 0x0001) # start\n",
    "\n",
    "    def write_IT(self, data):\n",
    "        self.write(self.IT_REG, data)\n",
    "        #self.write(mpcDriver.GIE_REG, 0x0001) # General Interrupt Enable\n",
    "        #self.write(mpcDriver.INTE_REG, 0x0001) # DONE Interrupt Enable\n",
    "    \n",
    "    def read_u0(self):\n",
    "        u0_0 = self.read(mpcDriver.u0_REG)\n",
    "        u0_1 = self.read(mpcDriver.u0_REG+4)\n",
    "        return (struct.unpack(\"f\", u0_0.to_bytes(4,'little'))[0], struct.unpack(\"f\", u0_1.to_bytes(4,'little'))[0])\n",
    "\n",
    "    def get_extime(self):\n",
    "        return self.time_stop-self.time_start"
   ]
  },
  {
   "cell_type": "markdown",
   "id": "ee10d5c7",
   "metadata": {},
   "source": [
    "### Test"
   ]
  },
  {
   "cell_type": "code",
   "execution_count": 75,
   "id": "c2d984ad",
   "metadata": {},
   "outputs": [],
   "source": [
    "from pynq import Overlay\n",
    "import time\n",
    "import numpy as np\n",
    "import matplotlib.pyplot as plt\n",
    "overlay = Overlay('/home/xilinx/pynq/overlays/axi/axi_mpc3.bit')\n",
    "mpc_ip = overlay.mpc_0\n",
    "sniffer_ip = overlay.sniffer_0"
   ]
  },
  {
   "cell_type": "code",
   "execution_count": 76,
   "id": "f6f8b185",
   "metadata": {},
   "outputs": [],
   "source": [
    "Ad = [[ 5.832388833041455e-01,  3.669428027247056e-02, -5.698344378458661e-02, -3.585094404674323e-03],\n",
    "      [-3.669428027247053e-02,  5.832388833041452e-01,  3.585094404674323e-03, -5.698344378458658e-02],\n",
    "      [ 1.139668875691732e+01,  7.170188809348643e-01,  5.869428071501437e-01,  3.692731140877439e-02],\n",
    "      [-7.170188809348642e-01,  1.139668875691732e+01, -3.692731140877440e-02,  5.869428071501437e-01]]\n",
    "Bd = [[ 5.706345909674587e-02,  1.645942912368251e-03],\n",
    "      [-1.645942912368251e-03,  5.706345909674588e-02],\n",
    "      [ 4.115007272060486e-01,  1.697977660425304e-02],\n",
    "      [-1.697977660425304e-02,  4.115007272060487e-01]]\n",
    "Bpd = [[ 4.115007272060487e-01,  1.697977660425305e-02],\n",
    "       [-1.697977660425306e-02,  4.115007272060490e-01],\n",
    "       [-1.143943936661757e+01, -3.302922679529269e-01],\n",
    "       [ 3.302922679529268e-01, -1.143943936661757e+01]]\n",
    "RL = np.repeat([47.2, 10, 30, 20], [500,1000,500,501])"
   ]
  },
  {
   "cell_type": "code",
   "execution_count": 77,
   "id": "672fa503",
   "metadata": {},
   "outputs": [],
   "source": [
    "k = np.arange(0.0, 0.5002, 0.0002)\n",
    "x = np.empty([2501, 4])\n",
    "r = np.repeat([[0,0],[100,0]], [1,2499], axis=0)\n",
    "d = np.empty([2500, 2])\n",
    "u = np.empty([2500, 2])\n",
    "x[0] = [0.0,0.0,0.0,0.0]\n",
    "\n",
    "mpc_ip.write_IT(10)\n",
    "\n",
    "for i in range(0,2500):\n",
    "    d[i] = np.dot([[0,0,1/RL[i],0],[0,0,0,1/RL[i]]],x[i])\n",
    "    mpc_ip.write_data(x[i], r[i], d[i])\n",
    "    u0 = mpc_ip.read_u0()\n",
    "    u[i] = [u0[0], u0[1]]\n",
    "    x[i+1] = np.dot(Ad,x[i]) + np.dot(Bd,u[i]) + np.dot(Bpd,d[i])"
   ]
  },
  {
   "cell_type": "code",
   "execution_count": 78,
   "id": "3611a99f",
   "metadata": {},
   "outputs": [],
   "source": [
    "xt = np.transpose(x)\n",
    "rt = np.transpose(r)\n",
    "ut = np.transpose(u)"
   ]
  },
  {
   "cell_type": "code",
   "execution_count": 107,
   "id": "cd55bdf2",
   "metadata": {},
   "outputs": [
    {
     "data": {
      "image/png": "[encoded data removed]",
      "text/plain": [
       "<Figure size 720x360 with 1 Axes>"
      ]
     },
     "metadata": {
      "needs_background": "light"
     },
     "output_type": "display_data"
    }
   ],
   "source": [
    "fig = plt.figure(figsize =(10, 5))\n",
    " \n",
    "# Creating plot\n",
    "ax = fig.add_axes([0, 0, 1, 1])\n",
    "ax.plot(k[0:2500], rt[0], 'c--', k[0:2500], rt[1], 'y--', k, xt[2], '-', k, xt[3], '-')\n",
    "ax.legend(['$V_{refd}$', '$V_{refq}$', '$V_d$', '$V_q$'], fontsize=13)\n",
    "ax.set_xlim(0, 0.5)\n",
    "plt.ylabel('Voltage (V)', fontsize=13)\n",
    "plt.xlabel('Time (s)', fontsize=13)\n",
    "plt.grid(True)\n",
    "\n",
    "# show plot\n",
    "plt.show()"
   ]
  },
  {
   "cell_type": "code",
   "execution_count": 110,
   "id": "47a9635e",
   "metadata": {},
   "outputs": [],
   "source": [
    "fig.savefig(\"der_voltage.pdf\", bbox_inches='tight')"
   ]
  },
  {
   "cell_type": "code",
   "execution_count": 109,
   "id": "14123300",
   "metadata": {},
   "outputs": [
    {
     "data": {
      "image/png": "[encoded data removed]",
      "text/plain": [
       "<Figure size 720x360 with 1 Axes>"
      ]
     },
     "metadata": {
      "needs_background": "light"
     },
     "output_type": "display_data"
    }
   ],
   "source": [
    "c = np.sqrt(np.add(np.power(xt[0],2), np.power(xt[1],2)))\n",
    "\n",
    "fig2 = plt.figure(figsize =(10, 5))\n",
    "\n",
    "# Creating plot\n",
    "ax2 = fig2.add_axes([0, 0, 1, 1])\n",
    "ax2.plot([0,0.5], [8,8], 'k--', k, c, 'm-')\n",
    "ax2.legend(['$I_{nom}$', '$|I_{fdq}|$'], fontsize=13)\n",
    "ax.set_xlim(0, 0.5)\n",
    "plt.xlabel('Time (s)', fontsize=15)\n",
    "plt.ylabel('Current (A)', fontsize=13)\n",
    "plt.grid(True)\n",
    "\n",
    "# show plot\n",
    "plt.show()"
   ]
  },
  {
   "cell_type": "code",
   "execution_count": 111,
   "id": "0a0b4de0",
   "metadata": {},
   "outputs": [],
   "source": [
    "fig2.savefig(\"der_current.pdf\", bbox_inches='tight')"
   ]
  },
  {
   "cell_type": "code",
   "execution_count": null,
   "id": "2b850ea6",
   "metadata": {},
   "outputs": [],
   "source": [
    "fig3 = plt.figure(figsize =(10, 5))\n",
    "\n",
    "# Creating plot\n",
    "ax3 = fig2.add_axes([0, 0, 1, 1])\n",
    "ax3.plot(k[0:2500], ut[0], k[0:2500], ut[1])\n",
    "ax3.set(xlabel='time (s)', ylabel='voltage')\n",
    "plt.grid(True)\n",
    "\n",
    "# show plot\n",
    "plt.show()"
   ]
  },
  {
   "cell_type": "code",
   "execution_count": null,
   "id": "b7cf7a0b",
   "metadata": {},
   "outputs": [],
   "source": []
  },
  {
   "cell_type": "code",
   "execution_count": null,
   "id": "65c218b0",
   "metadata": {},
   "outputs": [],
   "source": []
  }
 ],
 "metadata": {
  "kernelspec": {
   "display_name": "Python 3",
   "language": "python",
   "name": "python3"
  },
  "language_info": {
   "codemirror_mode": {
    "name": "ipython",
    "version": 3
   },
   "file_extension": ".py",
   "mimetype": "text/x-python",
   "name": "python",
   "nbconvert_exporter": "python",
   "pygments_lexer": "ipython3",
   "version": "3.8.2"
  }
 },
 "nbformat": 4,
 "nbformat_minor": 5
}
