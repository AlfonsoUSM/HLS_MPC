{
 "cells": [
  {
   "cell_type": "markdown",
   "id": "fed637bc",
   "metadata": {},
   "source": [
    "# MPC IP Driver\n",
    "MPC con ADMM. Inicialización con matrices de entrada, luego cada iteración se ingresa x0 y se obtiene u0.\n",
    "Interfaz axilite, sin partition."
   ]
  },
  {
   "cell_type": "code",
   "execution_count": 1,
   "id": "29670bb2",
   "metadata": {},
   "outputs": [
    {
     "data": {
      "application/javascript": [
       "\n",
       "try {\n",
       "require(['notebook/js/codecell'], function(codecell) {\n",
       "  codecell.CodeCell.options_default.highlight_modes[\n",
       "      'magic_text/x-csrc'] = {'reg':[/^%%microblaze/]};\n",
       "  Jupyter.notebook.events.one('kernel_ready.Kernel', function(){\n",
       "      Jupyter.notebook.get_cells().map(function(cell){\n",
       "          if (cell.cell_type == 'code'){ cell.auto_highlight(); } }) ;\n",
       "  });\n",
       "});\n",
       "} catch (e) {};\n"
      ]
     },
     "metadata": {},
     "output_type": "display_data"
    },
    {
     "data": {
      "application/javascript": [
       "\n",
       "try {\n",
       "require(['notebook/js/codecell'], function(codecell) {\n",
       "  codecell.CodeCell.options_default.highlight_modes[\n",
       "      'magic_text/x-csrc'] = {'reg':[/^%%pybind11/]};\n",
       "  Jupyter.notebook.events.one('kernel_ready.Kernel', function(){\n",
       "      Jupyter.notebook.get_cells().map(function(cell){\n",
       "          if (cell.cell_type == 'code'){ cell.auto_highlight(); } }) ;\n",
       "  });\n",
       "});\n",
       "} catch (e) {};\n"
      ]
     },
     "metadata": {},
     "output_type": "display_data"
    }
   ],
   "source": [
    "from pynq import Overlay"
   ]
  },
  {
   "cell_type": "code",
   "execution_count": 2,
   "id": "1a67217c",
   "metadata": {},
   "outputs": [],
   "source": [
    "overlay = Overlay('/home/xilinx/pynq/overlays/mpc/mpc_default.bit')\n",
    "overlay?"
   ]
  },
  {
   "cell_type": "code",
   "execution_count": 3,
   "id": "6c19c2bb",
   "metadata": {},
   "outputs": [],
   "source": [
    "mpc_ip = overlay.mpc_sparse_admm_iter_0\n",
    "mpc_ip?"
   ]
  },
  {
   "cell_type": "code",
   "execution_count": 4,
   "id": "4f8c6fdd",
   "metadata": {},
   "outputs": [
    {
     "name": "stderr",
     "output_type": "stream",
     "text": [
      "/usr/local/share/pynq-venv/lib/python3.8/site-packages/pynq/registers.py:398: UserWarning: Unsupported register size 1024 for register Memory_R_inv\n",
      "  warnings.warn(\n",
      "/usr/local/share/pynq-venv/lib/python3.8/site-packages/pynq/registers.py:398: UserWarning: Unsupported register size 4096 for register Memory_M_hat\n",
      "  warnings.warn(\n",
      "/usr/local/share/pynq-venv/lib/python3.8/site-packages/pynq/registers.py:398: UserWarning: Unsupported register size 4096 for register Memory_RhoMt_neg\n",
      "  warnings.warn(\n"
     ]
    },
    {
     "data": {
      "text/plain": [
       "RegisterMap {\n",
       "  CTRL = Register(AP_START=0, AP_DONE=0, AP_IDLE=1, AP_READY=0, RESERVED_1=0, AUTO_RESTART=0, RESERVED_2=0, INTERRUPT=0, RESERVED_3=0),\n",
       "  GIER = Register(Enable=0, RESERVED=0),\n",
       "  IP_IER = Register(CHAN0_INT_EN=0, CHAN1_INT_EN=0, RESERVED_0=0),\n",
       "  IP_ISR = Register(CHAN0_INT_ST=0, CHAN1_INT_ST=0, RESERVED_0=0),\n",
       "  r0 = Register(r0=write-only),\n",
       "  Memory_x0 = Register(value=0),\n",
       "  Memory_x1 = Register(value=0),\n",
       "  u0 = Register(u0=0),\n",
       "  u0_ctrl = Register(u0_ap_vld=0, RESERVED=0),\n",
       "  Memory_h_qp = Register(value=0)\n",
       "}"
      ]
     },
     "execution_count": 4,
     "metadata": {},
     "output_type": "execute_result"
    }
   ],
   "source": [
    "mpc_ip.register_map"
   ]
  },
  {
   "cell_type": "markdown",
   "id": "ad0498dc",
   "metadata": {},
   "source": [
    "\n",
    "### Driver especializado"
   ]
  },
  {
   "cell_type": "code",
   "execution_count": 1,
   "id": "2f4fbc89",
   "metadata": {},
   "outputs": [
    {
     "data": {
      "application/javascript": [
       "\n",
       "try {\n",
       "require(['notebook/js/codecell'], function(codecell) {\n",
       "  codecell.CodeCell.options_default.highlight_modes[\n",
       "      'magic_text/x-csrc'] = {'reg':[/^%%microblaze/]};\n",
       "  Jupyter.notebook.events.one('kernel_ready.Kernel', function(){\n",
       "      Jupyter.notebook.get_cells().map(function(cell){\n",
       "          if (cell.cell_type == 'code'){ cell.auto_highlight(); } }) ;\n",
       "  });\n",
       "});\n",
       "} catch (e) {};\n"
      ]
     },
     "metadata": {},
     "output_type": "display_data"
    },
    {
     "data": {
      "application/javascript": [
       "\n",
       "try {\n",
       "require(['notebook/js/codecell'], function(codecell) {\n",
       "  codecell.CodeCell.options_default.highlight_modes[\n",
       "      'magic_text/x-csrc'] = {'reg':[/^%%pybind11/]};\n",
       "  Jupyter.notebook.events.one('kernel_ready.Kernel', function(){\n",
       "      Jupyter.notebook.get_cells().map(function(cell){\n",
       "          if (cell.cell_type == 'code'){ cell.auto_highlight(); } }) ;\n",
       "  });\n",
       "});\n",
       "} catch (e) {};\n"
      ]
     },
     "metadata": {},
     "output_type": "display_data"
    }
   ],
   "source": [
    "from pynq import DefaultIP\n",
    "import struct\n",
    "\n",
    "class mpcDriver(DefaultIP):\n",
    "    \n",
    "    # IP Register Map\n",
    "    CTRL_REG = 0x0000\n",
    "    GIE_REG = 0x0004\n",
    "    INTE_REG = 0x0008\n",
    "    INTS_REG = 0x000C\n",
    "    r0_REG = 0x0010\n",
    "    x0_REG = 0x0018\n",
    "    x1_REG = 0x0020\n",
    "    u0_REG = 0x0028\n",
    "    u0_CTRL_REG = 0x002c\n",
    "    hqp_REG = 0x0040\n",
    "    Rinv_REG = 0x0400\n",
    "    Mhat_REG = 0x1000\n",
    "    RhoMtneg_REG = 0x2000\n",
    "    \n",
    "    N_SYS = 2;\n",
    "    N_QP = 14;\n",
    "    M_QP = 48;\n",
    "    \n",
    "    def __init__(self, description):\n",
    "        super().__init__(description=description)\n",
    "        self.time_start = 0\n",
    "        self.time_stop = 0\n",
    "\n",
    "    bindto = ['xilinx.com:hls:mpc_sparse_admm_iteration:1.0']\n",
    "\n",
    "    def is_ready(self):\n",
    "        state = self.read(mpcDriver.CTRL_REG)\n",
    "        return (state >> 3) & 0x01\n",
    "\n",
    "    def is_done(self):\n",
    "        state = self.read(mpcDriver.CTRL_REG)\n",
    "        return (state >> 1) & 0x01\n",
    "\n",
    "    def is_idle(self):\n",
    "        state = self.read(mpcDriver.CTRL_REG)\n",
    "        return (state >> 2) & 0x01\n",
    "\n",
    "    def start(self):\n",
    "        self.write(mpcDriver.CTRL_REG, 0x00000001)\n",
    "\n",
    "    def write_Mhat(self, data):\n",
    "        if (len(data)!=self.M_QP) or (len(data[0])!=self.N_QP) :\n",
    "            printf(\"Size error\")\n",
    "        else:\n",
    "            offset = mpcDriver.Mhat_REG\n",
    "            for row in range(0, self.M_QP):\n",
    "                data_bytes = map(lambda x : struct.pack(\"f\", x), data[row])\n",
    "                for col, word_item in enumerate(data_bytes):\n",
    "                    #print(f\"ADDRESS     : {hex(offset)}\")\n",
    "                    #print(f\"DATA (float): {data[row][col]}\")\n",
    "                    #print(f\"DATA (hex)  : 0x{word_item.hex()}\")\n",
    "                    #print(f\"DATA (uint) : {int.from_bytes(word_item, 'little')}\")\n",
    "                    self.write(offset, int.from_bytes(word_item,'little'))\n",
    "                    offset = offset + 4\n",
    "    \n",
    "    def write_RhoMtneg(self, data):\n",
    "        if (len(data)!=self.N_QP) or (len(data[0])!=self.M_QP) :\n",
    "            printf(\"Size error\")\n",
    "        else:\n",
    "            offset = mpcDriver.RhoMtneg_REG\n",
    "            for row in range(0, self.N_QP):\n",
    "                data_bytes = map(lambda x : struct.pack(\"f\", x), data[row])\n",
    "                for col, word_item in enumerate(data_bytes):\n",
    "                    self.write(offset, int.from_bytes(word_item,'little'))\n",
    "                    offset = offset + 4\n",
    "    \n",
    "    def write_hqp(self, data):\n",
    "        if (len(data)!=self.N_QP):\n",
    "            printf(\"Size error\")\n",
    "        else:\n",
    "            offset = mpcDriver.hqp_REG\n",
    "            data_bytes = map(lambda x : struct.pack(\"f\", x), data)\n",
    "            for index, word_item in enumerate(data_bytes):\n",
    "                self.write(offset, int.from_bytes(word_item,'little'))\n",
    "                offset = offset + 4\n",
    "    \n",
    "    def write_Rinv(self, data):\n",
    "        if (len(data)!=self.N_QP) or (len(data[0])!=self.N_QP) :\n",
    "            printf(\"Size error\")\n",
    "        else:\n",
    "            offset = mpcDriver.Rinv_REG\n",
    "            for row in range(0, self.N_QP):\n",
    "                data_bytes = map(lambda x : struct.pack(\"f\", x), data[row])\n",
    "                for col, word_item in enumerate(data_bytes):\n",
    "                    self.write(offset, int.from_bytes(word_item,'little'))\n",
    "                    offset = offset + 4 \n",
    "\n",
    "    def write_x0(self, data):\n",
    "        if (len(data)!=self.N_SYS):\n",
    "            printf(\"Size error\")\n",
    "        else:\n",
    "            # START TIMING\n",
    "            #self.time_start = time.time_ns()\n",
    "            #self.time_start = time.perf_counter_ns()\n",
    "            offset = mpcDriver.x0_REG\n",
    "            data_bytes = map(lambda x : struct.pack(\"f\", x), data)\n",
    "            for index, word_item in enumerate(data_bytes):\n",
    "                self.write(offset, int.from_bytes(word_item,'little'))\n",
    "                offset = offset + 4\n",
    "    \n",
    "    def read_u0(self):\n",
    "        #STOP TIMING\n",
    "        #self.time_stop = time.time_ns()\n",
    "        #self.time_stop = time.perf_counter_ns()\n",
    "        if (self.read(mpcDriver.u0_CTRL_REG)):\n",
    "            u0 = self.read(mpcDriver.u0_REG)\n",
    "            print(u0)\n",
    "            return struct.unpack(\"f\", u0.to_bytes(4,'little'))[0]\n",
    "        return 1\n",
    "    \n",
    "#    def write_brams(self, data):\n",
    "#        # START TIMING\n",
    "#        #self.time_start = time.time_ns()\n",
    "#        #self.time_start = time.perf_counter_ns()\n",
    "#        for i in range(0,3):\n",
    "#            data_bytes = map(lambda x : struct.pack(\"f\", x), data[i])\n",
    "#            for idx, word_item in enumerate(data_bytes):\n",
    "#                print(f\"ADDRESS     : {hex(MyDriver.base_offset[i] + (idx * 4))}\")\n",
    "#                print(f\"DATA (float): {data[i][idx]}\")\n",
    "#                print(f\"DATA (hex)  : 0x{word_item.hex()}\")\n",
    "#                print(f\"DATA (uint) : {int.from_bytes(word_item, 'little')}\")\n",
    "#                self.write(MyDriver.base_offset[i] + (idx * 4), int.from_bytes(word_item,'little'))\n",
    "\n",
    "\n",
    "#    def read_result(self):\n",
    "#        #STOP TIMING\n",
    "#        #self.time_stop = time.time_ns()\n",
    "#        #self.time_stop = time.perf_counter_ns()\n",
    "#        if (self.read(MyDriver.R_CTRL_REG)):\n",
    "#            R_out = self.read(MyDriver.R_REG)\n",
    "#            print(R_out)\n",
    "#            for idx in range(0,4):\n",
    "#                data_out = self.read(MyDriver.D_REG + (idx * 4))\n",
    "#                print(data_out)\n",
    "#            #return tuple(map(lambda x : struct.unpack(\"f\", x.to_bytes(4,'little'))[0], data_out))\n",
    "#        #return (0, 1)\n",
    "\n",
    "    def get_extime(self):\n",
    "        return self.time_stop-self.time_start"
   ]
  },
  {
   "cell_type": "markdown",
   "id": "ee10d5c7",
   "metadata": {},
   "source": [
    "### Test"
   ]
  },
  {
   "cell_type": "code",
   "execution_count": 39,
   "id": "c2d984ad",
   "metadata": {},
   "outputs": [],
   "source": [
    "from pynq import Overlay\n",
    "overlay = Overlay('/home/xilinx/pynq/overlays/mpc/mpc_default.bit')\n",
    "mpc_ip = overlay.mpc_sparse_admm_iter_0"
   ]
  },
  {
   "cell_type": "code",
   "execution_count": 11,
   "id": "e8f0b78f",
   "metadata": {},
   "outputs": [],
   "source": [
    "M_hat =  [[1.0, 0.0, 0.0, 0.0, 0.0, 0.0, 0.0, 0.0, 0.0, 0.0, 0.0, 0.0, 0.0, 0.0],\n",
    "          [0.0, 1.0, 0.0, 0.0, 0.0, 0.0, 0.0, 0.0, 0.0, 0.0, 0.0, 0.0, 0.0, 0.0],\n",
    "          [-1.0, 0.0, 0.0, 0.0, 0.0, 0.0, 0.0, 0.0, 0.0, 0.0, 0.0, 0.0, 0.0, 0.0],\n",
    "          [0.0,-1.0, 0.0, 0.0, 0.0, 0.0, 0.0, 0.0, 0.0, 0.0, 0.0, 0.0, 0.0, 0.0],\n",
    "          [0.0, 0.0, 1.0, 0.0, 0.0, 0.0, 0.0, 0.0, 0.0, 0.0, 0.0, 0.0, 0.0, 0.0],\n",
    "          [0.0, 0.0, 0.0, 1.0, 0.0, 0.0, 0.0, 0.0, 0.0, 0.0, 0.0, 0.0, 0.0, 0.0],\n",
    "          [0.0, 0.0,-1.0, 0.0, 0.0, 0.0, 0.0, 0.0, 0.0, 0.0, 0.0, 0.0, 0.0, 0.0],\n",
    "          [0.0, 0.0, 0.0,-1.0, 0.0, 0.0, 0.0, 0.0, 0.0, 0.0, 0.0, 0.0, 0.0, 0.0],\n",
    "          [0.0, 0.0, 0.0, 0.0, 1.0, 0.0, 0.0, 0.0, 0.0, 0.0, 0.0, 0.0, 0.0, 0.0],\n",
    "          [0.0, 0.0, 0.0, 0.0, 0.0, 1.0, 0.0, 0.0, 0.0, 0.0, 0.0, 0.0, 0.0, 0.0],\n",
    "          [0.0, 0.0, 0.0, 0.0,-1.0, 0.0, 0.0, 0.0, 0.0, 0.0, 0.0, 0.0, 0.0, 0.0],\n",
    "          [0.0, 0.0, 0.0, 0.0, 0.0,-1.0, 0.0, 0.0, 0.0, 0.0, 0.0, 0.0, 0.0, 0.0],\n",
    "          [0.0, 0.0, 0.0, 0.0, 0.0, 0.0, 1.0, 0.0, 0.0, 0.0, 0.0, 0.0, 0.0, 0.0],\n",
    "          [0.0, 0.0, 0.0, 0.0, 0.0, 0.0, 0.0, 1.0, 0.0, 0.0, 0.0, 0.0, 0.0, 0.0],\n",
    "          [0.0, 0.0, 0.0, 0.0, 0.0, 0.0,-1.0, 0.0, 0.0, 0.0, 0.0, 0.0, 0.0, 0.0],\n",
    "          [0.0, 0.0, 0.0, 0.0, 0.0, 0.0, 0.0,-1.0, 0.0, 0.0, 0.0, 0.0, 0.0, 0.0],\n",
    "          [0.0, 0.0, 0.0, 0.0, 0.0, 0.0, 0.0, 0.0, 1.0, 0.0, 0.0, 0.0, 0.0, 0.0],\n",
    "          [0.0, 0.0, 0.0, 0.0, 0.0, 0.0, 0.0, 0.0, 0.0, 1.0, 0.0, 0.0, 0.0, 0.0],\n",
    "          [0.0, 0.0, 0.0, 0.0, 0.0, 0.0, 0.0, 0.0,-1.0, 0.0, 0.0, 0.0, 0.0, 0.0],\n",
    "          [0.0, 0.0, 0.0, 0.0, 0.0, 0.0, 0.0, 0.0, 0.0,-1.0, 0.0, 0.0, 0.0, 0.0],\n",
    "          [0.0, 0.0, 0.0, 0.0, 0.0, 0.0, 0.0, 0.0, 0.0, 0.0, 1.0, 0.0, 0.0, 0.0],\n",
    "          [0.0, 0.0, 0.0, 0.0, 0.0, 0.0, 0.0, 0.0, 0.0, 0.0,-1.0, 0.0, 0.0, 0.0],\n",
    "          [0.0, 0.0, 0.0, 0.0, 0.0, 0.0, 0.0, 0.0, 0.0, 0.0, 0.0, 1.0, 0.0, 0.0],\n",
    "          [0.0, 0.0, 0.0, 0.0, 0.0, 0.0, 0.0, 0.0, 0.0, 0.0, 0.0,-1.0, 0.0, 0.0],\n",
    "          [0.0, 0.0, 0.0, 0.0, 0.0, 0.0, 0.0, 0.0, 0.0, 0.0, 0.0, 0.0, 1.0, 0.0],\n",
    "          [0.0, 0.0, 0.0, 0.0, 0.0, 0.0, 0.0, 0.0, 0.0, 0.0, 0.0, 0.0,-1.0, 0.0],\n",
    "          [0.0, 0.0, 0.0, 0.0, 0.0, 0.0, 0.0, 0.0, 0.0, 0.0, 0.0, 0.0, 0.0, 1.0],\n",
    "          [0.0, 0.0, 0.0, 0.0, 0.0, 0.0, 0.0, 0.0, 0.0, 0.0, 0.0, 0.0, 0.0,-1.0],        \n",
    "          [-1.0, 0.0, 0.0, 0.0, 0.0, 0.0, 0.0, 0.0, 0.0, 0.0, 0.0, 0.0, 0.0, 0.0],\n",
    "          [0.0,-1.0, 0.0, 0.0, 0.0, 0.0, 0.0, 0.0, 0.0, 0.0, 0.0, 0.0, 0.0, 0.0],\n",
    "          [0.9725, 0.0,-1.0, 0.0, 0.0, 0.0, 0.0, 0.0, 0.0, 0.0, 0.0385, 0.0, 0.0, 0.0],\n",
    "          [0.001, 1.0, 0.0,-1.0, 0.0, 0.0, 0.0, 0.0, 0.0, 0.0, 0.0, 0.0, 0.0, 0.0],\n",
    "          [0.0, 0.0, 0.9725, 0.0,-1.0, 0.0, 0.0, 0.0, 0.0, 0.0, 0.0, 0.0385, 0.0, 0.0],\n",
    "          [0.0, 0.0, 0.001, 1.0, 0.0,-1.0, 0.0, 0.0, 0.0, 0.0, 0.0, 0.0, 0.0, 0.0],\n",
    "          [0.0, 0.0, 0.0, 0.0, 0.9725, 0.0,-1.0, 0.0, 0.0, 0.0, 0.0, 0.0, 0.0385, 0.0],\n",
    "          [0.0, 0.0, 0.0, 0.0, 0.001, 1.0, 0.0,-1.0, 0.0, 0.0, 0.0, 0.0, 0.0, 0.0],\n",
    "          [0.0, 0.0, 0.0, 0.0, 0.0, 0.0, 0.9725, 0.0, 1.0, 0.0, 0.0, 0.0, 0.0, 0.0385],\n",
    "          [0.0, 0.0, 0.0, 0.0, 0.0, 0.0, 0.001, 1.0, 0.0, 1.0, 0.0, 0.0, 0.0, 0.0],\n",
    "          [1.0, 0.0, 0.0, 0.0, 0.0, 0.0, 0.0, 0.0, 0.0, 0.0, 0.0, 0.0, 0.0, 0.0],\n",
    "          [0.0, 1.0, 0.0, 0.0, 0.0, 0.0, 0.0, 0.0, 0.0, 0.0, 0.0, 0.0, 0.0, 0.0],\n",
    "          [-0.9725, 0.0, 1.0, 0.0, 0.0, 0.0, 0.0, 0.0, 0.0, 0.0,-0.0385, 0.0, 0.0, 0.0],\n",
    "          [-0.001,-1.0, 0.0, 1.0, 0.0, 0.0, 0.0, 0.0, 0.0, 0.0, 0.0, 0.0, 0.0, 0.0],\n",
    "          [0.0, 0.0,-0.9725, 0.0, 1.0, 0.0, 0.0, 0.0, 0.0, 0.0, 0.0,-0.0385, 0.0, 0.0],\n",
    "          [0.0, 0.0,-0.001,-1.0, 0.0, 1.0, 0.0, 0.0, 0.0, 0.0, 0.0, 0.0, 0.0, 0.0],\n",
    "          [0.0, 0.0, 0.0, 0.0,-0.9725, 0.0, 1.0, 0.0, 0.0, 0.0, 0.0, 0.0,-0.0385, 0.0],\n",
    "          [0.0, 0.0, 0.0, 0.0,-0.001,-1.0, 0.0, 1.0, 0.0, 0.0, 0.0, 0.0, 0.0, 0.0],\n",
    "          [0.0, 0.0, 0.0, 0.0, 0.0, 0.0,-0.9725, 0.0,-1.0, 0.0, 0.0, 0.0, 0.0,-0.0385],\n",
    "          [0.0, 0.0, 0.0, 0.0, 0.0, 0.0,-0.001,-1.0, 0.0,-1.0, 0.0, 0.0, 0.0, 0.0]]\n",
    "\n",
    "h_qp = [0.0, 0.0, 0.0, 0.0, 0.0, 0.0, 0.0, 0.0, 0.0, 0.0, 0.0, 0.0, 0.0, 0.0]\n",
    "\n",
    "R_inv = [[0.0031, 0.0000, 0.0012, 0.0000, 0.0004, 0.0000, 0.0002, 0.0000, 0.0001, 0.0000,-0.0001, 0.0000, 0.0000, 0.0000],\n",
    "         [0.0000, 0.0030, 0.0000, 0.0011, 0.0000, 0.0004, 0.0000, 0.0002, 0.0000, 0.0000, 0.0000, 0.0000, 0.0000, 0.0000],\n",
    "         [0.0012, 0.0000, 0.0035, 0.0000, 0.0013, 0.0000, 0.0005, 0.0000,-0.0003, 0.0000, 0.0001,-0.0001, 0.0000, 0.0000],\n",
    "         [0.0000, 0.0011, 0.0000, 0.0035, 0.0000, 0.0013, 0.0000, 0.0005, 0.0000,-0.0001, 0.0000, 0.0000, 0.0000, 0.0000],\n",
    "         [0.0004, 0.0000, 0.0013, 0.0000, 0.0036, 0.0000, 0.0014, 0.0000,-0.0007, 0.0000, 0.0000, 0.0001,-0.0001, 0.0000],\n",
    "         [0.0000, 0.0004, 0.0000, 0.0013, 0.0000, 0.0035, 0.0000, 0.0013, 0.0000,-0.0003, 0.0000, 0.0000, 0.0000, 0.0000],\n",
    "         [0.0002, 0.0000, 0.0005, 0.0000, 0.0014, 0.0000, 0.0038, 0.0000, 0.0018, 0.0000, 0.0000, 0.0000, 0.0001,-0.0001],\n",
    "         [0.0000, 0.0002, 0.0000, 0.0005, 0.0000, 0.0013, 0.0000, 0.0033, 0.0000,-0.0008, 0.0000, 0.0000, 0.0000, 0.0000],\n",
    "         [-0.0001,0.0000,-0.0003, 0.0000,-0.0007, 0.0000,-0.0018, 0.0000, 0.0049,-0.0001, 0.0000, 0.0000, 0.0000,-0.0001],\n",
    "         [0.0000, 0.0000, 0.0000, 0.0001, 0.0000,-0.0003, 0.0000,-0.0008,-0.0001, 0.0022, 0.0000, 0.0000, 0.0000, 0.0000],\n",
    "         [-0.0001,0.0000, 0.0001, 0.0000, 0.0000, 0.0000, 0.0000, 0.0000, 0.0000, 0.0000, 0.0079, 0.0000, 0.0000, 0.0000],\n",
    "         [0.0000, 0.0000,-0.0001, 0.0000, 0.0001, 0.0000, 0.0000, 0.0000, 0.0000, 0.0000, 0.0000, 0.0079, 0.0000, 0.0000],\n",
    "         [0.0000, 0.0000, 0.0000, 0.0000,-0.0001, 0.0000, 0.0001, 0.0000, 0.0000, 0.0000, 0.0000, 0.0000, 0.0079, 0.0000],\n",
    "         [0.0000, 0.0000, 0.0000, 0.0000, 0.0000, 0.0000,-0.0001, 0.0000,-0.0001, 0.0000, 0.0000, 0.0000, 0.0000, 0.0079]]\n",
    "    \n",
    "RhoMt_neg = [[-62.9634, 0.0,62.9634, 0.0, 0.0, 0.0, 0.0, 0.0, 0.0, 0.0, 0.0, 0.0, 0.0, 0.0, 0.0, 0.0, 0.0, 0.0, 0.0, 0.0, 0.0, 0.0, 0.0, 0.0, 0.0, 0.0, 0.0, 0.0, 62.9634, 0.0,-61.2298,-0.0621, 0.0, 0.0, 0.0, 0.0, 0.0, 0.0,-62.9634, 0.0, 61.2298, 0.0621, 0.0, 0.0, 0.0, 0.0, 0.0, 0.0],\n",
    "             [0.0,-62.9634, 0.0, 62.9634, 0.0, 0.0, 0.0, 0.0, 0.0, 0.0, 0.0, 0.0, 0.0, 0.0, 0.0, 0.0, 0.0, 0.0, 0.0, 0.0, 0.0, 0.0, 0.0, 0.0, 0.0, 0.0, 0.0, 0.0, 0.0, 62.9634, 0.0,-62.9634,    0.0, 0.0, 0.0, 0.0, 0.0, 0.0, 0.0,-62.9634, 0.0, 62.9634,    0.0, 0.0, 0.0, 0.0, 0.0, 0.0],\n",
    "             [0.0, 0.0, 0.0, 0.0,-62.9634, 0.0, 62.9634, 0.0, 0.0, 0.0, 0.0, 0.0, 0.0, 0.0, 0.0, 0.0, 0.0, 0.0, 0.0, 0.0, 0.0, 0.0, 0.0, 0.0, 0.0, 0.0, 0.0, 0.0, 0.0, 0.0, 62.9634, 0.0,-61.2298,-0.0621, 0.0, 0.0, 0.0, 0.0, 0.0, 0.0,-62.9634, 0.0, 61.2298, 0.0621, 0.0, 0.0, 0.0, 0.0],\n",
    "             [0.0, 0.0, 0.0, 0.0, 0.0,-62.9634, 0.0, 62.9634, 0.0, 0.0, 0.0, 0.0, 0.0, 0.0, 0.0, 0.0, 0.0, 0.0, 0.0, 0.0, 0.0, 0.0, 0.0, 0.0, 0.0, 0.0, 0.0, 0.0, 0.0, 0.0, 0.0, 62.9634, 0.0,-62.9634,    0.0, 0.0, 0.0, 0.0, 0.0, 0.0, 0.0,-62.9634, 0.0, 62.9634,    0.0, 0.0, 0.0, 0.0],\n",
    "             [0.0, 0.0, 0.0, 0.0, 0.0, 0.0, 0.0, 0.0,-62.9634, 0.0, 62.9634, 0.0, 0.0, 0.0, 0.0, 0.0, 0.0, 0.0, 0.0, 0.0, 0.0, 0.0, 0.0, 0.0, 0.0, 0.0, 0.0, 0.0, 0.0, 0.0, 0.0, 0.0, 62.9634, 0.0,-61.2298,-0.0621, 0.0, 0.0, 0.0, 0.0, 0.0, 0.0,-62.9634, 0.0, 61.2298, 0.0621, 0.0, 0.0],\n",
    "             [0.0, 0.0, 0.0, 0.0, 0.0, 0.0, 0.0, 0.0, 0.0,-62.9634, 0.0, 62.9634, 0.0, 0.0, 0.0, 0.0, 0.0, 0.0, 0.0, 0.0, 0.0, 0.0, 0.0, 0.0, 0.0, 0.0, 0.0, 0.0, 0.0, 0.0, 0.0, 0.0, 0.0, 62.9634, 0.0,-62.9634,    0.0, 0.0, 0.0, 0.0, 0.0, 0.0, 0.0,-62.9634, 0.0, 62.9634,    0.0, 0.0],\n",
    "             [0.0, 0.0, 0.0, 0.0, 0.0, 0.0, 0.0, 0.0, 0.0, 0.0, 0.0, 0.0,-62.9634, 0.0, 62.9634, 0.0, 0.0, 0.0, 0.0, 0.0, 0.0, 0.0, 0.0, 0.0, 0.0, 0.0, 0.0, 0.0, 0.0, 0.0, 0.0, 0.0, 0.0, 0.0, 62.9634, 0.0,-61.2298,-0.0621, 0.0, 0.0, 0.0, 0.0, 0.0, 0.0,-62.9634, 0.0, 61.2298, 0.0621],\n",
    "             [0.0, 0.0, 0.0, 0.0, 0.0, 0.0, 0.0, 0.0, 0.0, 0.0, 0.0, 0.0, 0.0,-62.9634, 0.0, 62.9634, 0.0, 0.0, 0.0, 0.0, 0.0, 0.0, 0.0, 0.0, 0.0, 0.0, 0.0, 0.0, 0.0, 0.0, 0.0, 0.0, 0.0, 0.0, 0.0, 62.9634, 0.0,-62.9634,    0.0, 0.0, 0.0, 0.0, 0.0, 0.0, 0.0,-62.9634, 0.0, 62.9634],\n",
    "             [0.0, 0.0, 0.0, 0.0, 0.0, 0.0, 0.0, 0.0, 0.0, 0.0, 0.0, 0.0, 0.0, 0.0, 0.0, 0.0,-62.9634, 0.0, 62.9634, 0.0, 0.0, 0.0, 0.0, 0.0, 0.0, 0.0, 0.0, 0.0, 0.0, 0.0, 0.0, 0.0, 0.0, 0.0, 0.0, 0.0,-62.9634, 0.0, 0.0, 0.0, 0.0, 0.0, 0.0, 0.0, 0.0, 0.0, 62.9634, 0.0],\n",
    "             [0.0, 0.0, 0.0, 0.0, 0.0, 0.0, 0.0, 0.0, 0.0, 0.0, 0.0, 0.0, 0.0, 0.0, 0.0, 0.0, 0.0,-62.9634, 0.0, 62.9634, 0.0, 0.0, 0.0, 0.0, 0.0, 0.0, 0.0, 0.0, 0.0, 0.0, 0.0, 0.0, 0.0, 0.0, 0.0, 0.0, 0.0,-62.9634, 0.0, 0.0, 0.0, 0.0, 0.0, 0.0, 0.0, 0.0, 0.0, 62.9634],\n",
    "             [0.0, 0.0, 0.0, 0.0, 0.0, 0.0, 0.0, 0.0, 0.0, 0.0, 0.0, 0.0, 0.0, 0.0, 0.0, 0.0, 0.0, 0.0, 0.0, 0.0,-62.9634, 62.9634, 0.0, 0.0, 0.0, 0.0, 0.0, 0.0, 0.0, 0.0,-2.4226,-0.0012, 0.0, 0.0, 0.0, 0.0, 0.0, 0.0, 0.0, 0.0, 2.4266, 0.0012, 0.0, 0.0, 0.0, 0.0, 0.0, 0.0],\n",
    "             [0.0, 0.0, 0.0, 0.0, 0.0, 0.0, 0.0, 0.0, 0.0, 0.0, 0.0, 0.0, 0.0, 0.0, 0.0, 0.0, 0.0, 0.0, 0.0, 0.0, 0.0, 0.0,-62.9634, 62.9634, 0.0, 0.0, 0.0, 0.0, 0.0, 0.0, 0.0, 0.0,-2.4226,-0.0012, 0.0, 0.0, 0.0, 0.0, 0.0, 0.0, 0.0, 0.0, 2.4266, 0.0012, 0.0, 0.0, 0.0, 0.0],\n",
    "             [0.0, 0.0, 0.0, 0.0, 0.0, 0.0, 0.0, 0.0, 0.0, 0.0, 0.0, 0.0, 0.0, 0.0, 0.0, 0.0, 0.0, 0.0, 0.0, 0.0, 0.0, 0.0, 0.0, 0.0,-62.9634, 62.9634, 0.0, 0.0, 0.0, 0.0, 0.0, 0.0, 0.0, 0.0,-2.4226,-0.0012, 0.0, 0.0, 0.0, 0.0, 0.0, 0.0, 0.0, 0.0, 2.4266, 0.0012, 0.0, 0.0],\n",
    "             [0.0, 0.0, 0.0, 0.0, 0.0, 0.0, 0.0, 0.0, 0.0, 0.0, 0.0, 0.0, 0.0, 0.0, 0.0, 0.0, 0.0, 0.0, 0.0, 0.0, 0.0, 0.0, 0.0, 0.0, 0.0, 0.0,-62.9634, 62.9634, 0.0, 0.0, 0.0, 0.0, 0.0, 0.0, 0.0, 0.0,-2.4226,-0.0012, 0.0, 0.0, 0.0, 0.0, 0.0, 0.0, 0.0, 0.0, 2.4266, 0.0012]]\n"
   ]
  },
  {
   "cell_type": "code",
   "execution_count": 19,
   "id": "a5143065",
   "metadata": {},
   "outputs": [],
   "source": [
    "R_inv = [[ 3.0803e-03,-8.6322e-07, 1.1617e-03, 4.3977e-07, 4.4042e-04, 2.9486e-07, 1.7305e-04,-2.6384e-07,-8.4035e-05, 1.3520e-06,-7.0511e-05,-2.6505e-05,-9.8146e-06,-3.2397e-06],\n",
    "         [-8.6322e-07, 3.0221e-03,-7.1661e-07, 1.1491e-03,-5.8172e-07, 4.3430e-04,-7.6465e-07, 1.5726e-04, 1.6151e-06,-3.8731e-05,-3.1454e-08,-9.3781e-09,-1.3001e-08,-3.5802e-08],\n",
    "         [ 1.1617e-03,-7.1661e-07, 3.5225e-03,-1.0081e-06, 1.3354e-03, 9.0587e-09, 5.2472e-04,-1.1204e-06,-2.5481e-04, 4.1784e-06, 9.2005e-05,-8.0366e-05,-2.9759e-05,-9.8232e-06],\n",
    "         [ 4.3977e-07, 1.1491e-03,-1.0081e-06, 3.4564e-03,-1.3148e-06, 1.3063e-03,-2.1291e-06, 4.7303e-04, 4.7753e-06,-1.1650e-04,-1.0642e-08,-5.4387e-08,-4.8800e-08,-1.1089e-07],\n",
    "         [ 4.4042e-04,-5.8172e-07, 1.3354e-03,-1.3148e-06, 3.6067e-03,-2.4893e-06, 1.4172e-03,-3.9364e-06,-6.8820e-04, 1.1509e-05, 3.4881e-05, 8.8750e-05,-8.0374e-05,-2.6530e-05],\n",
    "         [ 2.9486e-07, 4.3430e-04, 9.0587e-09, 1.3063e-03,-2.4893e-06, 3.4951e-03,-5.2923e-06, 1.2656e-03, 1.2580e-05,-3.1169e-04, 6.1665e-09,-5.3781e-08,-1.5348e-07,-3.0425e-07],\n",
    "         [ 1.7305e-04,-7.6465e-07, 5.2472e-04,-2.1291e-06, 1.4172e-03,-5.2923e-06, 3.7702e-03,-1.2909e-05,-1.8309e-03, 3.1219e-05, 1.3706e-05, 3.4872e-05, 9.1979e-05,-7.0580e-05],\n",
    "         [-2.6384e-07, 1.5726e-04,-1.1204e-06, 4.7303e-04,-3.9364e-06, 1.2656e-03,-1.2909e-05, 3.3338e-03, 3.2637e-05,-8.2104e-04,-2.7118e-08,-9.4155e-08,-3.0922e-07,-8.2077e-07],\n",
    "         [-8.4035e-05, 1.6151e-06,-2.5481e-04, 4.7753e-06,-6.8820e-04, 1.2580e-05,-1.8309e-03, 3.2637e-05, 4.8606e-03,-8.4461e-05,-6.6555e-06,-1.6934e-05,-4.4667e-05,-1.1843e-04],\n",
    "         [ 1.3520e-06,-3.8731e-05, 4.1784e-06,-1.1650e-04, 1.1509e-05,-3.1169e-04, 3.1219e-05,-8.2104e-04,-8.4461e-05, 2.1579e-03, 1.0861e-07, 2.8254e-07, 7.6022e-07, 2.0545e-06],\n",
    "         [-7.0511e-05,-3.1454e-08, 9.2005e-05,-1.0642e-08, 3.4881e-05, 6.1665e-09, 1.3706e-05,-2.7118e-08,-6.6555e-06, 1.0861e-07, 7.9292e-03,-2.0991e-06,-7.7730e-07,-2.5658e-07],\n",
    "         [-2.6505e-05,-9.3781e-09,-8.0366e-05,-5.4387e-08, 8.8750e-05,-5.3781e-08, 3.4872e-05,-9.4155e-08,-1.6934e-05, 2.8254e-07,-2.0991e-06, 7.9295e-03,-1.9778e-06,-6.5283e-07],\n",
    "         [-9.8146e-06,-1.3001e-08,-2.9759e-05,-4.8800e-08,-8.0374e-05,-1.5348e-07, 9.1979e-05,-3.0922e-07,-4.4667e-05, 7.6022e-07,-7.7730e-07,-1.9778e-06, 7.9296e-03,-1.7219e-06],\n",
    "         [-3.2397e-06,-3.5802e-08,-9.8232e-06,-1.1089e-07,-2.6530e-05,-3.0425e-07,-7.0580e-05,-8.2077e-07,-1.1843e-04, 2.0545e-06,-2.5658e-07,-6.5283e-07,-1.7219e-06, 7.9303e-03]]"
   ]
  },
  {
   "cell_type": "code",
   "execution_count": 40,
   "id": "49f549fa",
   "metadata": {},
   "outputs": [],
   "source": [
    "mpc_ip.write_Mhat(M_hat)\n",
    "mpc_ip.write_hqp(h_qp)\n",
    "mpc_ip.write_Rinv(R_inv)\n",
    "mpc_ip.write_RhoMtneg(RhoMt_neg)"
   ]
  },
  {
   "cell_type": "code",
   "execution_count": 41,
   "id": "f04fa17f",
   "metadata": {},
   "outputs": [],
   "source": [
    "x0 = [3.0, -1.0]\n",
    "mpc_ip.write_x0(x0)"
   ]
  },
  {
   "cell_type": "code",
   "execution_count": 42,
   "id": "f0f217fe",
   "metadata": {},
   "outputs": [
    {
     "data": {
      "text/plain": [
       "1"
      ]
     },
     "execution_count": 42,
     "metadata": {},
     "output_type": "execute_result"
    }
   ],
   "source": [
    "mpc_ip.start()\n",
    "mpc_ip.read(0x0000)"
   ]
  },
  {
   "cell_type": "code",
   "execution_count": 43,
   "id": "e0361eac",
   "metadata": {},
   "outputs": [
    {
     "data": {
      "text/plain": [
       "14"
      ]
     },
     "execution_count": 43,
     "metadata": {},
     "output_type": "execute_result"
    }
   ],
   "source": [
    "mpc_ip.read(0x0000)"
   ]
  },
  {
   "cell_type": "code",
   "execution_count": 44,
   "id": "96302a69",
   "metadata": {},
   "outputs": [
    {
     "data": {
      "text/plain": [
       "4"
      ]
     },
     "execution_count": 44,
     "metadata": {},
     "output_type": "execute_result"
    }
   ],
   "source": [
    "mpc_ip.read(0x0000)"
   ]
  },
  {
   "cell_type": "code",
   "execution_count": 45,
   "id": "58a686b8",
   "metadata": {},
   "outputs": [
    {
     "name": "stdout",
     "output_type": "stream",
     "text": [
      "3204985804\n"
     ]
    },
    {
     "data": {
      "text/plain": [
       "-0.5320403575897217"
      ]
     },
     "execution_count": 45,
     "metadata": {},
     "output_type": "execute_result"
    }
   ],
   "source": [
    "mpc_ip.read_u0()"
   ]
  },
  {
   "cell_type": "code",
   "execution_count": 46,
   "id": "244ff8e3",
   "metadata": {},
   "outputs": [
    {
     "data": {
      "text/plain": [
       "1"
      ]
     },
     "execution_count": 46,
     "metadata": {},
     "output_type": "execute_result"
    }
   ],
   "source": [
    "x0 = [2.89686, -0.997052]\n",
    "mpc_ip.write_x0(x0)\n",
    "mpc_ip.start()\n",
    "mpc_ip.read(0x0000)"
   ]
  },
  {
   "cell_type": "code",
   "execution_count": 47,
   "id": "182579fa",
   "metadata": {},
   "outputs": [
    {
     "name": "stdout",
     "output_type": "stream",
     "text": [
      "3198000331\n"
     ]
    },
    {
     "data": {
      "text/plain": [
       "-0.3078368604183197"
      ]
     },
     "execution_count": 47,
     "metadata": {},
     "output_type": "execute_result"
    }
   ],
   "source": [
    "mpc_ip.read_u0()"
   ]
  },
  {
   "cell_type": "code",
   "execution_count": 48,
   "id": "aa2e296d",
   "metadata": {},
   "outputs": [
    {
     "data": {
      "text/plain": [
       "14"
      ]
     },
     "execution_count": 48,
     "metadata": {},
     "output_type": "execute_result"
    }
   ],
   "source": [
    "x0 = [2.80519, -0.994201]\n",
    "mpc_ip.write_x0(x0)\n",
    "mpc_ip.start()\n",
    "mpc_ip.read(0x0000)"
   ]
  },
  {
   "cell_type": "code",
   "execution_count": 49,
   "id": "e7cc13cc",
   "metadata": {},
   "outputs": [
    {
     "name": "stdout",
     "output_type": "stream",
     "text": [
      "3199650615\n"
     ]
    },
    {
     "data": {
      "text/plain": [
       "-0.3570191562175751"
      ]
     },
     "execution_count": 49,
     "metadata": {},
     "output_type": "execute_result"
    }
   ],
   "source": [
    "mpc_ip.read_u0()"
   ]
  },
  {
   "cell_type": "code",
   "execution_count": 51,
   "id": "98c4e949",
   "metadata": {},
   "outputs": [
    {
     "data": {
      "text/plain": [
       "11"
      ]
     },
     "execution_count": 51,
     "metadata": {},
     "output_type": "execute_result"
    }
   ],
   "source": [
    "x0 = [0.5, -0.2]\n",
    "mpc_ip.write_x0(x0)\n",
    "mpc_ip.start()\n",
    "mpc_ip.read(0x0000)"
   ]
  },
  {
   "cell_type": "code",
   "execution_count": null,
   "id": "779b19ea",
   "metadata": {},
   "outputs": [],
   "source": []
  }
 ],
 "metadata": {
  "kernelspec": {
   "display_name": "Python 3",
   "language": "python",
   "name": "python3"
  },
  "language_info": {
   "codemirror_mode": {
    "name": "ipython",
    "version": 3
   },
   "file_extension": ".py",
   "mimetype": "text/x-python",
   "name": "python",
   "nbconvert_exporter": "python",
   "pygments_lexer": "ipython3",
   "version": "3.8.2"
  }
 },
 "nbformat": 4,
 "nbformat_minor": 5
}
