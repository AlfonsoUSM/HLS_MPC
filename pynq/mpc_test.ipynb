{
 "cells": [
  {
   "cell_type": "markdown",
   "id": "fed637bc",
   "metadata": {},
   "source": [
    "# Test project\n",
    "Suma de vectores con argumentos por referencia (entradas y salidas escalares y vectores)\n",
    "Notar que los datos son de tipo flotante, pero el driver lo ignora."
   ]
  },
  {
   "cell_type": "code",
   "execution_count": 16,
   "id": "29670bb2",
   "metadata": {},
   "outputs": [],
   "source": [
    "from pynq import Overlay"
   ]
  },
  {
   "cell_type": "code",
   "execution_count": 46,
   "id": "1a67217c",
   "metadata": {},
   "outputs": [],
   "source": [
    "overlay = Overlay('/home/xilinx/pynq/overlays/test/test2.bit')\n",
    "overlay?"
   ]
  },
  {
   "cell_type": "code",
   "execution_count": 47,
   "id": "6c19c2bb",
   "metadata": {},
   "outputs": [],
   "source": [
    "vadd_ip = overlay.vadd_0\n",
    "vadd_ip?"
   ]
  },
  {
   "cell_type": "code",
   "execution_count": 19,
   "id": "4f8c6fdd",
   "metadata": {},
   "outputs": [
    {
     "data": {
      "text/plain": [
       "RegisterMap {\n",
       "  CTRL = Register(AP_START=0, AP_DONE=0, AP_IDLE=1, AP_READY=0, RESERVED_1=0, AUTO_RESTART=0, RESERVED_2=0, INTERRUPT=0, RESERVED_3=0),\n",
       "  GIER = Register(Enable=0, RESERVED=0),\n",
       "  IP_IER = Register(CHAN0_INT_EN=0, CHAN1_INT_EN=0, RESERVED_0=0),\n",
       "  IP_ISR = Register(CHAN0_INT_ST=0, CHAN1_INT_ST=0, RESERVED_0=0),\n",
       "  A = Register(A=write-only),\n",
       "  Memory_B = Register(value=0),\n",
       "  Memory_C = Register(value=0),\n",
       "  Memory_D = Register(value=0),\n",
       "  R = Register(R=0),\n",
       "  R_ctrl = Register(R_ap_vld=0, RESERVED=0)\n",
       "}"
      ]
     },
     "execution_count": 19,
     "metadata": {},
     "output_type": "execute_result"
    }
   ],
   "source": [
    "vadd_ip.register_map"
   ]
  },
  {
   "cell_type": "code",
   "execution_count": 28,
   "id": "d7298ae9",
   "metadata": {},
   "outputs": [],
   "source": [
    "vadd_ip.write(0x10, 0x5555ffff) #A\n",
    "vadd_ip.write(0x20, 0x5555afff) # B0\n",
    "vadd_ip.write(0x24, 0x5555bfff) # B1\n",
    "vadd_ip.write(0x28, 0x5555cfff) # B2\n",
    "vadd_ip.write(0x2c, 0x5555ffff) # B3\n",
    "vadd_ip.write(0x30, 0) # C0\n",
    "vadd_ip.write(0x34, 0) # C1\n",
    "vadd_ip.write(0x38, 0) # C2\n",
    "vadd_ip.write(0x3c, 0) # C3"
   ]
  },
  {
   "cell_type": "code",
   "execution_count": 29,
   "id": "3dfb6dc4",
   "metadata": {},
   "outputs": [
    {
     "data": {
      "text/plain": [
       "14"
      ]
     },
     "execution_count": 29,
     "metadata": {},
     "output_type": "execute_result"
    }
   ],
   "source": [
    "vadd_ip.write(0x00, 1)\n",
    "vadd_ip.read(0x00)"
   ]
  },
  {
   "cell_type": "code",
   "execution_count": 30,
   "id": "c3e2a1a5",
   "metadata": {},
   "outputs": [
    {
     "data": {
      "text/plain": [
       "4"
      ]
     },
     "execution_count": 30,
     "metadata": {},
     "output_type": "execute_result"
    }
   ],
   "source": [
    "vadd_ip.read(0x00)"
   ]
  },
  {
   "cell_type": "code",
   "execution_count": 31,
   "id": "e86c2f07",
   "metadata": {},
   "outputs": [
    {
     "data": {
      "text/plain": [
       "1"
      ]
     },
     "execution_count": 31,
     "metadata": {},
     "output_type": "execute_result"
    }
   ],
   "source": [
    "vadd_ip.read(0x54)"
   ]
  },
  {
   "cell_type": "code",
   "execution_count": 32,
   "id": "ba2bb683",
   "metadata": {},
   "outputs": [
    {
     "data": {
      "text/plain": [
       "1798497278"
      ]
     },
     "execution_count": 32,
     "metadata": {},
     "output_type": "execute_result"
    }
   ],
   "source": [
    "vadd_ip.read(0x50)"
   ]
  },
  {
   "cell_type": "markdown",
   "id": "ad0498dc",
   "metadata": {},
   "source": [
    "\n",
    "### Driver especializado"
   ]
  },
  {
   "cell_type": "code",
   "execution_count": 2,
   "id": "2f4fbc89",
   "metadata": {},
   "outputs": [],
   "source": [
    "from pynq import DefaultIP\n",
    "import struct\n",
    "\n",
    "class MyDriver(DefaultIP):\n",
    "    \n",
    "    # IP Register Map\n",
    "    CTRL_REG = 0x0000\n",
    "    GIE_REG = 0x0004\n",
    "    INTE_REG = 0x0008\n",
    "    INTS_REG = 0x000C\n",
    "    A_REG = 0x0010\n",
    "    R_REG = 0x0050\n",
    "    R_CTRL_REG = 0x0054\n",
    "    B_REG = 0x0020\n",
    "    C_REG = 0x0030\n",
    "    D_REG = 0x0040\n",
    "    \n",
    "    base_offset = [0x0010, 0x0020, 0x0030]\n",
    "\n",
    "     # MORE CONSTANTS\n",
    "    BRAM_SIZE = 16\n",
    "    BRAM_BLOCKS = 8\n",
    "    \n",
    "    def __init__(self, description):\n",
    "        super().__init__(description=description)\n",
    "        self.time_start = 0\n",
    "        self.time_stop = 0\n",
    "\n",
    "    bindto = ['xilinx.com:hls:vadd:1.0']\n",
    "\n",
    "    def is_ready(self):\n",
    "        state = self.read(MyDriver.CTRL_REG)\n",
    "        return (state >> 3) & 0x01\n",
    "\n",
    "    def is_done(self):\n",
    "        state = self.read(MyDriver.CTRL_REG)\n",
    "        return (state >> 1) & 0x01\n",
    "\n",
    "    def is_idle(self):\n",
    "        state = self.read(MyDriver.CTRL_REG)\n",
    "        return (state >> 2) & 0x01\n",
    "\n",
    "    def start(self):\n",
    "        self.write(MyDriver.CTRL_REG, 0x00000001)\n",
    "\n",
    "\n",
    "    def write_brams(self, data):\n",
    "        # START TIMING\n",
    "        #self.time_start = time.time_ns()\n",
    "        #self.time_start = time.perf_counter_ns()\n",
    "        for i in range(0,3):\n",
    "            data_bytes = map(lambda x : struct.pack(\"f\", x), data[i])\n",
    "            for idx, word_item in enumerate(data_bytes):\n",
    "                print(f\"ADDRESS     : {hex(MyDriver.base_offset[i] + (idx * 4))}\")\n",
    "                print(f\"DATA (float): {data[i][idx]}\")\n",
    "                print(f\"DATA (hex)  : 0x{word_item.hex()}\")\n",
    "                print(f\"DATA (uint) : {int.from_bytes(word_item, 'little')}\")\n",
    "                self.write(MyDriver.base_offset[i] + (idx * 4), int.from_bytes(word_item,'little'))\n",
    "\n",
    "\n",
    "    def read_result(self):\n",
    "        #STOP TIMING\n",
    "        #self.time_stop = time.time_ns()\n",
    "        #self.time_stop = time.perf_counter_ns()\n",
    "        if (self.read(MyDriver.R_CTRL_REG)):\n",
    "            R_out = self.read(MyDriver.R_REG)\n",
    "            print(R_out)\n",
    "            for idx in range(0,4):\n",
    "                data_out = self.read(MyDriver.D_REG + (idx * 4))\n",
    "                print(data_out)\n",
    "            #return tuple(map(lambda x : struct.unpack(\"f\", x.to_bytes(4,'little'))[0], data_out))\n",
    "        #return (0, 1)\n",
    "\n",
    "    def get_extime(self):\n",
    "        return self.time_stop-self.time_start"
   ]
  },
  {
   "cell_type": "code",
   "execution_count": 3,
   "id": "c2d984ad",
   "metadata": {},
   "outputs": [],
   "source": [
    "from pynq import Overlay\n",
    "overlay = Overlay('/home/xilinx/pynq/overlays/test/test2.bit')\n",
    "vadd_ip = overlay.vadd_0"
   ]
  },
  {
   "cell_type": "code",
   "execution_count": 4,
   "id": "e8f0b78f",
   "metadata": {},
   "outputs": [],
   "source": [
    "data = [[2.0],[8.0, 2.0, 3.0, 4.0],[0.0, 0.0, 0.0, 0.0]]"
   ]
  },
  {
   "cell_type": "code",
   "execution_count": 5,
   "id": "49f549fa",
   "metadata": {},
   "outputs": [
    {
     "name": "stdout",
     "output_type": "stream",
     "text": [
      "ADDRESS     : 0x10\n",
      "DATA (float): 2.0\n",
      "DATA (hex)  : 0x00000040\n",
      "DATA (uint) : 1073741824\n",
      "ADDRESS     : 0x20\n",
      "DATA (float): 8.0\n",
      "DATA (hex)  : 0x00000041\n",
      "DATA (uint) : 1090519040\n",
      "ADDRESS     : 0x24\n",
      "DATA (float): 2.0\n",
      "DATA (hex)  : 0x00000040\n",
      "DATA (uint) : 1073741824\n",
      "ADDRESS     : 0x28\n",
      "DATA (float): 3.0\n",
      "DATA (hex)  : 0x00004040\n",
      "DATA (uint) : 1077936128\n",
      "ADDRESS     : 0x2c\n",
      "DATA (float): 4.0\n",
      "DATA (hex)  : 0x00008040\n",
      "DATA (uint) : 1082130432\n",
      "ADDRESS     : 0x30\n",
      "DATA (float): 0.0\n",
      "DATA (hex)  : 0x00000000\n",
      "DATA (uint) : 0\n",
      "ADDRESS     : 0x34\n",
      "DATA (float): 0.0\n",
      "DATA (hex)  : 0x00000000\n",
      "DATA (uint) : 0\n",
      "ADDRESS     : 0x38\n",
      "DATA (float): 0.0\n",
      "DATA (hex)  : 0x00000000\n",
      "DATA (uint) : 0\n",
      "ADDRESS     : 0x3c\n",
      "DATA (float): 0.0\n",
      "DATA (hex)  : 0x00000000\n",
      "DATA (uint) : 0\n"
     ]
    }
   ],
   "source": [
    "vadd_ip.write_brams(data)"
   ]
  },
  {
   "cell_type": "code",
   "execution_count": 6,
   "id": "f0f217fe",
   "metadata": {},
   "outputs": [],
   "source": [
    "vadd_ip.start()"
   ]
  },
  {
   "cell_type": "code",
   "execution_count": 7,
   "id": "a595a4e3",
   "metadata": {},
   "outputs": [
    {
     "name": "stdout",
     "output_type": "stream",
     "text": [
      "1090519040\n",
      "1090519040\n",
      "1073741824\n",
      "1077936128\n",
      "1082130432\n"
     ]
    }
   ],
   "source": [
    "vadd_ip.read_result()"
   ]
  },
  {
   "cell_type": "code",
   "execution_count": null,
   "id": "e0361eac",
   "metadata": {},
   "outputs": [],
   "source": []
  }
 ],
 "metadata": {
  "kernelspec": {
   "display_name": "Python 3",
   "language": "python",
   "name": "python3"
  },
  "language_info": {
   "codemirror_mode": {
    "name": "ipython",
    "version": 3
   },
   "file_extension": ".py",
   "mimetype": "text/x-python",
   "name": "python",
   "nbconvert_exporter": "python",
   "pygments_lexer": "ipython3",
   "version": "3.8.2"
  }
 },
 "nbformat": 4,
 "nbformat_minor": 5
}
