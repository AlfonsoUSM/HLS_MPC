{
 "cells": [
  {
   "cell_type": "markdown",
   "id": "fed637bc",
   "metadata": {},
   "source": [
    "# MPC IP Driver for 4x40 QP Problem\n",
    "MPC con ADMM. Las matrices de entrada constantes son globales y no hace falta ingresarlas. Se elige un número de iteraciones de ADMM, luego, cada iteración se ingresa x0 y se obtiene u0.\n",
    "Interfaz axilite."
   ]
  },
  {
   "cell_type": "markdown",
   "id": "ad0498dc",
   "metadata": {},
   "source": [
    "\n",
    "### Driver especializado"
   ]
  },
  {
   "cell_type": "code",
   "execution_count": 42,
   "id": "2f4fbc89",
   "metadata": {},
   "outputs": [],
   "source": [
    "from pynq import DefaultIP\n",
    "import struct\n",
    "\n",
    "class mpcDriver(DefaultIP):\n",
    "    \n",
    "    # IP Register Map\n",
    "    CTRL_REG = 0x0000\n",
    "    GIE_REG = 0x0004\n",
    "    INTE_REG = 0x0008\n",
    "    INTS_REG = 0x000C\n",
    "    \n",
    "    x0_REG = 0x0010\n",
    "    x0_0_REG = 0x0010\n",
    "    x0_1_REG = 0x0018\n",
    "    x0_2_REG = 0x0020\n",
    "    x0_3_REG = 0x0028\n",
    "    IT_REG = 0x0038\n",
    "    u0_REG = 0x0030\n",
    "    \n",
    "    N_SYS = 4;\n",
    "    N_QP = 4;\n",
    "    M_QP = 40;\n",
    "    \n",
    "    def __init__(self, description):\n",
    "        super().__init__(description=description)\n",
    "        self.time_start = 0\n",
    "        self.time_stop = 0\n",
    "\n",
    "    bindto = ['xilinx.com:hls:mpc:1.0']\n",
    "\n",
    "    def is_ready(self):\n",
    "        state = self.read(mpcDriver.CTRL_REG)\n",
    "        return (state >> 3) & 0x01\n",
    "\n",
    "    def is_done(self):\n",
    "        state = self.read(mpcDriver.CTRL_REG)\n",
    "        return (state >> 1) & 0x01\n",
    "\n",
    "    def is_idle(self):\n",
    "        state = self.read(mpcDriver.CTRL_REG)\n",
    "        return (state >> 2) & 0x01\n",
    "\n",
    "    def start(self):\n",
    "        self.write(mpcDriver.CTRL_REG, 0x00000001)\n",
    "\n",
    "    def write_x0(self, data):\n",
    "        if (len(data)!=self.N_SYS):\n",
    "            print(\"Size error\")\n",
    "        else:\n",
    "            # START TIMING\n",
    "            #self.time_start = time.time_ns()\n",
    "            #self.time_start = time.perf_counter_ns()\n",
    "            offset = mpcDriver.x0_REG\n",
    "            data_bytes = map(lambda x : struct.pack(\"f\", x), data)\n",
    "            for index, word_item in enumerate(data_bytes):\n",
    "                self.write(offset, int.from_bytes(word_item,'little'))\n",
    "                offset = offset + 8\n",
    "\n",
    "    def write_IT(self, data):\n",
    "        self.write(self.IT_REG, data)\n",
    "    \n",
    "    def read_u0(self):\n",
    "        #STOP TIMING\n",
    "        #self.time_stop = time.time_ns()\n",
    "        #self.time_stop = time.perf_counter_ns()\n",
    "        #if (self.read(mpcDriver.u0_CTRL_REG)):\n",
    "        u0_0 = self.read(mpcDriver.u0_REG)\n",
    "        u0_1 = self.read(mpcDriver.u0_REG+4)\n",
    "        print(u0_0)\n",
    "        print(u0_1)\n",
    "        return (struct.unpack(\"f\", u0_0.to_bytes(4,'little'))[0], struct.unpack(\"f\", u0_1.to_bytes(4,'little'))[0])\n",
    "        #return 1\n",
    "\n",
    "    def get_extime(self):\n",
    "        return self.time_stop-self.time_start"
   ]
  },
  {
   "cell_type": "markdown",
   "id": "ee10d5c7",
   "metadata": {},
   "source": [
    "### Test"
   ]
  },
  {
   "cell_type": "code",
   "execution_count": 43,
   "id": "c2d984ad",
   "metadata": {},
   "outputs": [],
   "source": [
    "from pynq import Overlay\n",
    "overlay = Overlay('/home/xilinx/pynq/overlays/der/mpc_eop_un02.bit')\n",
    "mpc_ip = overlay.mpc_0"
   ]
  },
  {
   "cell_type": "code",
   "execution_count": 44,
   "id": "f04fa17f",
   "metadata": {},
   "outputs": [],
   "source": [
    "x0 = [2.0, 0.0, 40.0, 0.0]\n",
    "mpc_ip.write_x0(x0)\n",
    "mpc_ip.write_IT(10)"
   ]
  },
  {
   "cell_type": "code",
   "execution_count": 16,
   "id": "f2a9415d",
   "metadata": {},
   "outputs": [
    {
     "name": "stdout",
     "output_type": "stream",
     "text": [
      "1073741824\n",
      "0\n",
      "1109393408\n",
      "0\n"
     ]
    }
   ],
   "source": [
    "data_bytes = map(lambda x : struct.pack(\"f\", x), [2.0, 0.0, 40.0, 0.0])\n",
    "for index, word_item in enumerate(data_bytes):\n",
    "    print(int.from_bytes(word_item,'little'))"
   ]
  },
  {
   "cell_type": "code",
   "execution_count": 38,
   "id": "66c4f5e8",
   "metadata": {},
   "outputs": [
    {
     "data": {
      "text/plain": [
       "10"
      ]
     },
     "execution_count": 38,
     "metadata": {},
     "output_type": "execute_result"
    }
   ],
   "source": [
    "mpc_ip.read(0x0038)"
   ]
  },
  {
   "cell_type": "code",
   "execution_count": 45,
   "id": "f0f217fe",
   "metadata": {},
   "outputs": [
    {
     "data": {
      "text/plain": [
       "14"
      ]
     },
     "execution_count": 45,
     "metadata": {},
     "output_type": "execute_result"
    }
   ],
   "source": [
    "mpc_ip.start()\n",
    "mpc_ip.read(0x0000)"
   ]
  },
  {
   "cell_type": "code",
   "execution_count": 40,
   "id": "e0361eac",
   "metadata": {},
   "outputs": [
    {
     "data": {
      "text/plain": [
       "1022659576"
      ]
     },
     "execution_count": 40,
     "metadata": {},
     "output_type": "execute_result"
    }
   ],
   "source": [
    "mpc_ip.read(0x0034)"
   ]
  },
  {
   "cell_type": "code",
   "execution_count": 46,
   "id": "58a686b8",
   "metadata": {},
   "outputs": [
    {
     "name": "stdout",
     "output_type": "stream",
     "text": [
      "3210774955\n",
      "1022659576\n"
     ]
    },
    {
     "data": {
      "text/plain": [
       "(-0.8771006464958191, 0.029851898550987244)"
      ]
     },
     "execution_count": 46,
     "metadata": {},
     "output_type": "execute_result"
    }
   ],
   "source": [
    "mpc_ip.read_u0()"
   ]
  },
  {
   "cell_type": "code",
   "execution_count": 47,
   "id": "244ff8e3",
   "metadata": {},
   "outputs": [
    {
     "data": {
      "text/plain": [
       "14"
      ]
     },
     "execution_count": 47,
     "metadata": {},
     "output_type": "execute_result"
    }
   ],
   "source": [
    "x0 = [-1.1628, 0.073162, 45.911, -2.8840]\n",
    "mpc_ip.write_x0(x0)\n",
    "mpc_ip.start()\n",
    "mpc_ip.read(0x0000)"
   ]
  },
  {
   "cell_type": "code",
   "execution_count": 48,
   "id": "182579fa",
   "metadata": {},
   "outputs": [
    {
     "name": "stdout",
     "output_type": "stream",
     "text": [
      "1080442935\n",
      "3199781748\n"
     ]
    },
    {
     "data": {
      "text/plain": [
       "(3.5976693630218506, -0.3609272241592407)"
      ]
     },
     "execution_count": 48,
     "metadata": {},
     "output_type": "execute_result"
    }
   ],
   "source": [
    "mpc_ip.read_u0()"
   ]
  },
  {
   "cell_type": "code",
   "execution_count": 49,
   "id": "aa2e296d",
   "metadata": {},
   "outputs": [
    {
     "data": {
      "text/plain": [
       "14"
      ]
     },
     "execution_count": 49,
     "metadata": {},
     "output_type": "execute_result"
    }
   ],
   "source": [
    "x0 = [-3.0766, 0.38776, 15.114, -1.9301]\n",
    "mpc_ip.write_x0(x0)\n",
    "mpc_ip.start()\n",
    "mpc_ip.read(0x0000)"
   ]
  },
  {
   "cell_type": "code",
   "execution_count": 50,
   "id": "e7cc13cc",
   "metadata": {},
   "outputs": [
    {
     "name": "stdout",
     "output_type": "stream",
     "text": [
      "1084187761\n",
      "3209554051\n"
     ]
    },
    {
     "data": {
      "text/plain": [
       "(4.981010913848877, -0.8043290972709656)"
      ]
     },
     "execution_count": 50,
     "metadata": {},
     "output_type": "execute_result"
    }
   ],
   "source": [
    "mpc_ip.read_u0()"
   ]
  },
  {
   "cell_type": "code",
   "execution_count": 44,
   "id": "98c4e949",
   "metadata": {},
   "outputs": [
    {
     "data": {
      "text/plain": [
       "14"
      ]
     },
     "execution_count": 44,
     "metadata": {},
     "output_type": "execute_result"
    }
   ],
   "source": [
    "mpc_ip.start()\n",
    "mpc_ip.read(0x0000)"
   ]
  },
  {
   "cell_type": "code",
   "execution_count": 45,
   "id": "0c95259d",
   "metadata": {},
   "outputs": [
    {
     "name": "stdout",
     "output_type": "stream",
     "text": [
      "3197259714\n"
     ]
    },
    {
     "data": {
      "text/plain": [
       "-0.28576475381851196"
      ]
     },
     "execution_count": 45,
     "metadata": {},
     "output_type": "execute_result"
    }
   ],
   "source": [
    "mpc_ip.read_u0()"
   ]
  },
  {
   "cell_type": "code",
   "execution_count": 29,
   "id": "6eb80627",
   "metadata": {},
   "outputs": [
    {
     "data": {
      "text/plain": [
       "0"
      ]
     },
     "execution_count": 29,
     "metadata": {},
     "output_type": "execute_result"
    }
   ],
   "source": [
    "mpc_ip.read(0x0028)"
   ]
  },
  {
   "cell_type": "code",
   "execution_count": 13,
   "id": "957a25fd",
   "metadata": {},
   "outputs": [],
   "source": []
  },
  {
   "cell_type": "code",
   "execution_count": 31,
   "id": "cafeb7b1",
   "metadata": {},
   "outputs": [
    {
     "data": {
      "text/plain": [
       "0.0"
      ]
     },
     "execution_count": 31,
     "metadata": {},
     "output_type": "execute_result"
    }
   ],
   "source": [
    "d = mpc_ip.read(0x003c)\n",
    "struct.unpack(\"f\", d.to_bytes(4,'little'))[0]"
   ]
  },
  {
   "cell_type": "code",
   "execution_count": null,
   "id": "bc7ebd9b",
   "metadata": {},
   "outputs": [],
   "source": []
  }
 ],
 "metadata": {
  "kernelspec": {
   "display_name": "Python 3",
   "language": "python",
   "name": "python3"
  },
  "language_info": {
   "codemirror_mode": {
    "name": "ipython",
    "version": 3
   },
   "file_extension": ".py",
   "mimetype": "text/x-python",
   "name": "python",
   "nbconvert_exporter": "python",
   "pygments_lexer": "ipython3",
   "version": "3.8.2"
  }
 },
 "nbformat": 4,
 "nbformat_minor": 5
}
